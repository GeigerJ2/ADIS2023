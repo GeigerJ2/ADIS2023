{
 "cells": [
  {
   "cell_type": "code",
   "execution_count": 49,
   "metadata": {
    "collapsed": false,
    "jupyter": {
     "outputs_hidden": false
    },
    "ExecuteTime": {
     "end_time": "2023-10-31T16:44:06.639711009Z",
     "start_time": "2023-10-31T16:44:02.029650200Z"
    }
   },
   "outputs": [],
   "source": [
    "%%capture\n",
    "!pip install atomate2[strict]"
   ]
  },
  {
   "cell_type": "code",
   "execution_count": 50,
   "metadata": {
    "collapsed": false,
    "jupyter": {
     "outputs_hidden": false
    },
    "ExecuteTime": {
     "end_time": "2023-10-31T16:44:06.647530675Z",
     "start_time": "2023-10-31T16:44:06.645508007Z"
    }
   },
   "outputs": [],
   "source": [
    "import warnings\n",
    "warnings.filterwarnings('ignore')"
   ]
  },
  {
   "cell_type": "markdown",
   "metadata": {
    "collapsed": false,
    "is_executing": true,
    "jupyter": {
     "outputs_hidden": false
    }
   },
   "source": [
    "First we load makers from atomate2. Makers can be used to generate Flow objects with default values in a convenient way."
   ]
  },
  {
   "cell_type": "code",
   "execution_count": 51,
   "metadata": {
    "collapsed": false,
    "jupyter": {
     "outputs_hidden": false
    },
    "ExecuteTime": {
     "end_time": "2023-10-31T16:44:06.692176831Z",
     "start_time": "2023-10-31T16:44:06.651463438Z"
    }
   },
   "outputs": [],
   "source": [
    "#from atomate2.vasp.jobs.core import RelaxMaker, StaticMaker, RelaxSetGenerator\n",
    "from atomate2.forcefields.jobs import CHGNetRelaxMaker, CHGNetStaticMaker, M3GNetRelaxMaker, M3GNetStaticMaker, GAPRelaxMaker, GAPStaticMaker\n"
   ]
  },
  {
   "cell_type": "markdown",
   "metadata": {},
   "source": [
    "Then, we need standard classes, decorators, functions from jobflow"
   ]
  },
  {
   "cell_type": "code",
   "execution_count": 52,
   "metadata": {
    "ExecuteTime": {
     "end_time": "2023-10-31T16:44:06.694884313Z",
     "start_time": "2023-10-31T16:44:06.692543331Z"
    }
   },
   "outputs": [],
   "source": [
    "from jobflow import job, Response, Flow, run_locally, Maker\n",
    "from dataclasses import dataclass"
   ]
  },
  {
   "cell_type": "markdown",
   "metadata": {},
   "source": [
    "We define a job to create a flow including constant volume optimizations"
   ]
  },
  {
   "cell_type": "code",
   "execution_count": 53,
   "metadata": {
    "collapsed": false,
    "jupyter": {
     "outputs_hidden": false
    },
    "ExecuteTime": {
     "end_time": "2023-10-31T16:44:06.695215746Z",
     "start_time": "2023-10-31T16:44:06.692916540Z"
    }
   },
   "outputs": [],
   "source": [
    "@job\n",
    "def get_energies(structure, volume_increments=[0.95,0.97,0.99, 1.00, 1.01, 1.03, 1.05 ]):\n",
    "    jobs=[]\n",
    "    volumes=[]\n",
    "    energies=[]\n",
    "    for inc in volume_increments:\n",
    "        new_structure=structure.copy()\n",
    "        new_structure.scale_lattice(structure.volume*inc)\n",
    "        # job=RelaxMaker(input_set_generator=RelaxSetGenerator(user_incar_settings={\"ISIF\": 4})).make(new_structure)\n",
    "        new_job=M3GNetRelaxMaker(relax_cell=False, relax_kwargs={\"fmax\": 0.0001}).make(new_structure)\n",
    "        jobs.append(new_job)\n",
    "        volumes.append(new_job.output.structure.volume)\n",
    "        energies.append(new_job.output.output.energy)\n",
    "    return Response(replace=Flow(jobs, output={\"energies\": energies, \"volumes\": volumes}))\n"
   ]
  },
  {
   "cell_type": "markdown",
   "metadata": {},
   "source": [
    "We then compute the ev curve in a job starting from a list of energies, volumes"
   ]
  },
  {
   "cell_type": "code",
   "execution_count": 54,
   "metadata": {
    "collapsed": false,
    "jupyter": {
     "outputs_hidden": false
    },
    "ExecuteTime": {
     "end_time": "2023-10-31T16:44:06.695481955Z",
     "start_time": "2023-10-31T16:44:06.693177083Z"
    }
   },
   "outputs": [],
   "source": [
    "from ase.units import kJ\n",
    "from ase.eos import EquationOfState\n",
    "\n",
    "@job\n",
    "def get_results_ev_curve(list_volumes, list_energies):\n",
    "    eos = EquationOfState(list_volumes, list_energies)\n",
    "    v0, e0, B = eos.fit()\n",
    "    eos.plot('eos.png')\n",
    "\n",
    "    results = {}\n",
    "    results[\"V0\"] = v0\n",
    "    results[\"e0\"] = e0\n",
    "    results[\"B\"] = B\n",
    "\n",
    "    return results"
   ]
  },
  {
   "cell_type": "markdown",
   "metadata": {},
   "source": [
    "We define a Maker for convenience"
   ]
  },
  {
   "cell_type": "code",
   "execution_count": 55,
   "metadata": {
    "collapsed": false,
    "jupyter": {
     "outputs_hidden": false
    },
    "ExecuteTime": {
     "end_time": "2023-10-31T16:44:06.735983869Z",
     "start_time": "2023-10-31T16:44:06.693409550Z"
    }
   },
   "outputs": [],
   "source": [
    "@dataclass\n",
    "class EVMaker(Maker):\n",
    "    name=\"ev\"\n",
    "    def make(self, structure):\n",
    "\n",
    "        job1=M3GNetRelaxMaker(relax_cell=True, relax_kwargs={\"fmax\": 0.0001}).make(structure=structure)\n",
    "        job2=get_energies(job1.output.structure)\n",
    "        job3=get_results_ev_curve(list_volumes=job2.output[\"volumes\"], list_energies=job2.output[\"energies\"])\n",
    "        return Flow([job1,job2,job3], job3.output)"
   ]
  },
  {
   "cell_type": "markdown",
   "metadata": {},
   "source": [
    "Start the workflow"
   ]
  },
  {
   "cell_type": "code",
   "execution_count": 56,
   "metadata": {
    "collapsed": false,
    "jupyter": {
     "outputs_hidden": false
    },
    "ExecuteTime": {
     "end_time": "2023-10-31T16:44:06.738637994Z",
     "start_time": "2023-10-31T16:44:06.736329235Z"
    }
   },
   "outputs": [
    {
     "name": "stdout",
     "output_type": "stream",
     "text": [
      "40.692834\n"
     ]
    }
   ],
   "source": [
    "from pymatgen.core import Structure\n",
    "structure = Structure(\n",
    "    lattice=[[0, 2.73, 2.73], [2.73, 0, 2.73], [2.73, 2.73, 0]],\n",
    "    species=[\"Si\", \"Si\"],\n",
    "    coords=[[0, 0, 0], [0.25, 0.25, 0.25]],\n",
    ")\n",
    "print(structure.volume)\n",
    "flow=EVMaker().make(structure=structure)"
   ]
  },
  {
   "cell_type": "markdown",
   "metadata": {},
   "source": [
    "Then, we run it."
   ]
  },
  {
   "cell_type": "code",
   "execution_count": 57,
   "metadata": {
    "collapsed": false,
    "jupyter": {
     "outputs_hidden": false
    },
    "ExecuteTime": {
     "end_time": "2023-10-31T16:44:14.635918080Z",
     "start_time": "2023-10-31T16:44:06.736690201Z"
    }
   },
   "outputs": [
    {
     "name": "stdout",
     "output_type": "stream",
     "text": [
      "2023-10-31 17:44:06,735 INFO Started executing jobs locally\n",
      "2023-10-31 17:44:06,739 INFO Starting job - M3GNet relax (af81b0e7-7f82-4437-b290-638de98124c8)\n",
      "2023-10-31 17:44:10,831 INFO Finished job - M3GNet relax (af81b0e7-7f82-4437-b290-638de98124c8)\n",
      "2023-10-31 17:44:10,837 INFO Starting job - get_energies (aa500484-b2f7-4d30-8823-be55abe104f0)\n",
      "2023-10-31 17:44:11,039 INFO Finished job - get_energies (aa500484-b2f7-4d30-8823-be55abe104f0)\n",
      "2023-10-31 17:44:11,048 INFO Starting job - M3GNet relax (1e4dbfd0-a9c5-4563-a519-4f30bff6fd38)\n",
      "2023-10-31 17:44:11,395 INFO Finished job - M3GNet relax (1e4dbfd0-a9c5-4563-a519-4f30bff6fd38)\n",
      "2023-10-31 17:44:11,397 INFO Starting job - M3GNet relax (cac4d8aa-1bd6-4604-8a08-cab4d96d2e7d)\n",
      "2023-10-31 17:44:11,734 INFO Finished job - M3GNet relax (cac4d8aa-1bd6-4604-8a08-cab4d96d2e7d)\n",
      "2023-10-31 17:44:11,738 INFO Starting job - M3GNet relax (4744ce86-a252-4b29-9f16-534c105eb05c)\n",
      "2023-10-31 17:44:12,080 INFO Finished job - M3GNet relax (4744ce86-a252-4b29-9f16-534c105eb05c)\n",
      "2023-10-31 17:44:12,081 INFO Starting job - M3GNet relax (1d5b588c-c6e8-4d09-9417-67beea9fcec7)\n",
      "2023-10-31 17:44:12,420 INFO Finished job - M3GNet relax (1d5b588c-c6e8-4d09-9417-67beea9fcec7)\n",
      "2023-10-31 17:44:12,422 INFO Starting job - M3GNet relax (56132601-b9f6-42de-ba8d-d60689fc152e)\n",
      "2023-10-31 17:44:12,770 INFO Finished job - M3GNet relax (56132601-b9f6-42de-ba8d-d60689fc152e)\n",
      "2023-10-31 17:44:12,778 INFO Starting job - M3GNet relax (9fb5d3a3-2fd9-4211-80a8-4fe7a9acfbd1)\n",
      "2023-10-31 17:44:13,114 INFO Finished job - M3GNet relax (9fb5d3a3-2fd9-4211-80a8-4fe7a9acfbd1)\n",
      "2023-10-31 17:44:13,116 INFO Starting job - M3GNet relax (33b87584-ec0e-44fe-92b4-a6ff869fe3e5)\n",
      "2023-10-31 17:44:14,222 INFO Finished job - M3GNet relax (33b87584-ec0e-44fe-92b4-a6ff869fe3e5)\n",
      "2023-10-31 17:44:14,228 INFO Starting job - store_inputs (aa500484-b2f7-4d30-8823-be55abe104f0, 2)\n",
      "2023-10-31 17:44:14,232 INFO Finished job - store_inputs (aa500484-b2f7-4d30-8823-be55abe104f0, 2)\n",
      "2023-10-31 17:44:14,232 INFO Starting job - get_results_ev_curve (0762de80-6ad6-4ab7-84d0-e3d5717646f8)\n",
      "2023-10-31 17:44:14,433 INFO Finished job - get_results_ev_curve (0762de80-6ad6-4ab7-84d0-e3d5717646f8)\n",
      "2023-10-31 17:44:14,434 INFO Finished executing jobs locally\n"
     ]
    },
    {
     "data": {
      "text/plain": "<Figure size 640x480 with 1 Axes>",
      "image/png": "[encoded data removed]"
     },
     "metadata": {},
     "output_type": "display_data"
    }
   ],
   "source": [
    "response=run_locally(flow)"
   ]
  },
  {
   "cell_type": "code",
   "execution_count": 58,
   "metadata": {
    "collapsed": false,
    "jupyter": {
     "outputs_hidden": false
    },
    "ExecuteTime": {
     "end_time": "2023-10-31T16:44:14.636842650Z",
     "start_time": "2023-10-31T16:44:14.634697849Z"
    }
   },
   "outputs": [
    {
     "name": "stdout",
     "output_type": "stream",
     "text": [
      "{'V0': 40.65357432923033, 'e0': -10.711596589376484, 'B': 0.4652098738365982}\n"
     ]
    }
   ],
   "source": [
    "print(response[flow[2].uuid][1].output)"
   ]
  },
  {
   "cell_type": "code",
   "execution_count": 58,
   "metadata": {
    "ExecuteTime": {
     "end_time": "2023-10-31T16:44:14.754434579Z",
     "start_time": "2023-10-31T16:44:14.636412010Z"
    }
   },
   "outputs": [],
   "source": []
  }
 ],
 "metadata": {
  "kernelspec": {
   "display_name": "Python 3 (ipykernel)",
   "language": "python",
   "name": "python3"
  },
  "language_info": {
   "codemirror_mode": {
    "name": "ipython",
    "version": 3
   },
   "file_extension": ".py",
   "mimetype": "text/x-python",
   "name": "python",
   "nbconvert_exporter": "python",
   "pygments_lexer": "ipython3",
   "version": "3.10.13"
  }
 },
 "nbformat": 4,
 "nbformat_minor": 4
}
