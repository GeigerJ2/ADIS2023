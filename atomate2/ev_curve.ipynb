{
 "cells": [
  {
   "cell_type": "code",
   "execution_count": null,
   "metadata": {
    "collapsed": false,
    "jupyter": {
     "outputs_hidden": false
    }
   },
   "outputs": [],
   "source": [
    "%%capture\n",
    "!pip install atomate2[strict]"
   ]
  },
  {
   "cell_type": "code",
   "execution_count": null,
   "metadata": {
    "collapsed": false,
    "jupyter": {
     "outputs_hidden": false
    }
   },
   "outputs": [],
   "source": [
    "import warnings\n",
    "warnings.filterwarnings('ignore')"
   ]
  },
  {
   "cell_type": "markdown",
   "metadata": {
    "collapsed": false,
    "is_executing": true,
    "jupyter": {
     "outputs_hidden": false
    }
   },
   "source": [
    "First we load makers from atomate2. Makers can be used to generate Flow objects with default values in a convenient way."
   ]
  },
  {
   "cell_type": "code",
   "execution_count": null,
   "metadata": {
    "collapsed": false,
    "jupyter": {
     "outputs_hidden": false
    }
   },
   "outputs": [],
   "source": [
    "#from atomate2.vasp.jobs.core import RelaxMaker, StaticMaker, RelaxSetGenerator\n",
    "from atomate2.forcefields.jobs import CHGNetRelaxMaker, CHGNetStaticMaker, M3GNetRelaxMaker, M3GNetStaticMaker, GAPRelaxMaker, GAPStaticMaker\n"
   ]
  },
  {
   "cell_type": "markdown",
   "metadata": {},
   "source": [
    "Then, we need standard classes, decorators, functions from jobflow"
   ]
  },
  {
   "cell_type": "code",
   "execution_count": null,
   "metadata": {},
   "outputs": [],
   "source": [
    "from jobflow import job, Response, Flow, run_locally, Maker\n",
    "from dataclasses import dataclass"
   ]
  },
  {
   "cell_type": "markdown",
   "metadata": {},
   "source": [
    "We define a job to create a flow including constant volume optimizations"
   ]
  },
  {
   "cell_type": "code",
   "execution_count": null,
   "metadata": {
    "collapsed": false,
    "jupyter": {
     "outputs_hidden": false
    }
   },
   "outputs": [],
   "source": [
    "@job\n",
    "def get_energies(structure, volume_increments=[0.95,0.97,0.99, 1.00, 1.01, 1.03, 1.05 ]):\n",
    "    jobs=[]\n",
    "    volumes=[]\n",
    "    energies=[]\n",
    "    for inc in volume_increments:\n",
    "        new_structure=structure.copy()\n",
    "        new_structure.scale_lattice(structure.volume*inc)\n",
    "        # job=RelaxMaker(input_set_generator=RelaxSetGenerator(user_incar_settings={\"ISIF\": 4})).make(new_structure)\n",
    "        new_job=M3GNetRelaxMaker(relax_cell=False, relax_kwargs={\"fmax\": 0.0001}).make(new_structure)\n",
    "        jobs.append(new_job)\n",
    "        volumes.append(new_job.output.structure.volume)\n",
    "        energies.append(new_job.output.output.energy)\n",
    "    return Response(replace=Flow(jobs, output={\"energies\": energies, \"volumes\": volumes}))\n"
   ]
  },
  {
   "cell_type": "markdown",
   "metadata": {},
   "source": [
    "We then compute the ev curve in a job starting from a list of energies, volumes"
   ]
  },
  {
   "cell_type": "code",
   "execution_count": null,
   "metadata": {
    "collapsed": false,
    "jupyter": {
     "outputs_hidden": false
    }
   },
   "outputs": [],
   "source": [
    "from ase.units import kJ\n",
    "from ase.eos import EquationOfState\n",
    "\n",
    "@job\n",
    "def get_results_ev_curve(list_volumes, list_energies):\n",
    "    eos = EquationOfState(list_volumes, list_energies)\n",
    "    v0, e0, B = eos.fit()\n",
    "    eos.plot('eos.png')\n",
    "\n",
    "    results = {}\n",
    "    results[\"V0\"] = v0\n",
    "    results[\"e0\"] = e0\n",
    "    results[\"B\"] = B\n",
    "\n",
    "    return results"
   ]
  },
  {
   "cell_type": "markdown",
   "metadata": {},
   "source": [
    "We define a Maker for convenience"
   ]
  },
  {
   "cell_type": "code",
   "execution_count": null,
   "metadata": {
    "collapsed": false,
    "jupyter": {
     "outputs_hidden": false
    }
   },
   "outputs": [],
   "source": [
    "@dataclass\n",
    "class EVMaker(Maker):\n",
    "    name=\"ev\"\n",
    "    def make(structure):\n",
    "\n",
    "        job1=new_job=M3GNetRelaxMaker(relax_cell=True, relax_kwargs={\"fmax\": 0.0001}).make(structure=structure)\n",
    "        job2=get_energies(job1.output.structure)\n",
    "        job3=get_results_ev_curve(list_volumes=job2.output[\"volumes\"], list_energies=job2.output[\"energies\"])\n",
    "        return Flow([job1,job2,job3], job3.output)"
   ]
  },
  {
   "cell_type": "markdown",
   "metadata": {},
   "source": [
    "Start the workflow"
   ]
  },
  {
   "cell_type": "code",
   "execution_count": null,
   "metadata": {
    "collapsed": false,
    "jupyter": {
     "outputs_hidden": false
    }
   },
   "outputs": [],
   "source": [
    "from pymatgen.core import Structure\n",
    "structure = Structure(\n",
    "    lattice=[[0, 2.73, 2.73], [2.73, 0, 2.73], [2.73, 2.73, 0]],\n",
    "    species=[\"Si\", \"Si\"],\n",
    "    coords=[[0, 0, 0], [0.25, 0.25, 0.25]],\n",
    ")\n",
    "print(structure.volume)\n",
    "flow=EVMaker.make(structure=structure)"
   ]
  },
  {
   "cell_type": "markdown",
   "metadata": {},
   "source": [
    "Then, we run it."
   ]
  },
  {
   "cell_type": "code",
   "execution_count": null,
   "metadata": {
    "collapsed": false,
    "jupyter": {
     "outputs_hidden": false
    }
   },
   "outputs": [],
   "source": [
    "response=run_locally(flow)"
   ]
  },
  {
   "cell_type": "code",
   "execution_count": null,
   "metadata": {
    "collapsed": false,
    "jupyter": {
     "outputs_hidden": false
    }
   },
   "outputs": [],
   "source": [
    "print(response[flow[2].uuid][1].output)"
   ]
  },
  {
   "cell_type": "code",
   "execution_count": null,
   "metadata": {},
   "outputs": [],
   "source": []
  }
 ],
 "metadata": {
  "kernelspec": {
   "display_name": "Python 3 (ipykernel)",
   "language": "python",
   "name": "python3"
  },
  "language_info": {
   "codemirror_mode": {
    "name": "ipython",
    "version": 3
   },
   "file_extension": ".py",
   "mimetype": "text/x-python",
   "name": "python",
   "nbconvert_exporter": "python",
   "pygments_lexer": "ipython3",
   "version": "3.10.13"
  }
 },
 "nbformat": 4,
 "nbformat_minor": 4
}
