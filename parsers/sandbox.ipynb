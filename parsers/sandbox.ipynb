{
 "cells": [
  {
   "cell_type": "code",
   "execution_count": 1,
   "metadata": {},
   "outputs": [],
   "source": [
    "from adis_tools.parsers import parse_pw"
   ]
  },
  {
   "cell_type": "code",
   "execution_count": 2,
   "metadata": {},
   "outputs": [
    {
     "data": {
      "text/plain": [
       "{'ase_structure': Atoms(symbols='Si2', pbc=True, cell=[[3.348898268062178, 0.0, 1.9334873165488495], [1.1162994227207257, 3.1573715664993287, 1.9334873165488495], [0.0, 0.0, 3.866974633097699]]),\n",
       " 'energy': -308.54069951701086,\n",
       " 'forces': [[6.049357433713179e-06, -6.611385511736578e-06],\n",
       "  [0.0, -6.049357433713179e-06],\n",
       "  [6.611385511736578e-06, 0.0]]}"
      ]
     },
     "execution_count": 2,
     "metadata": {},
     "output_type": "execute_result"
    }
   ],
   "source": [
    "parse_pw('relax.xml')"
   ]
  },
  {
   "cell_type": "code",
   "execution_count": 7,
   "metadata": {},
   "outputs": [],
   "source": [
    "from pathlib import Path\n",
    "\n",
    "with Path('relax.xml').open('r') as f:\n",
    "    res = parse_pw(f)"
   ]
  },
  {
   "cell_type": "code",
   "execution_count": 8,
   "metadata": {},
   "outputs": [
    {
     "data": {
      "text/plain": [
       "{'ase_structure': Atoms(symbols='Si2', pbc=True, cell=[[3.348898268062178, 0.0, 1.9334873165488495], [1.1162994227207257, 3.1573715664993287, 1.9334873165488495], [0.0, 0.0, 3.866974633097699]]),\n",
       " 'energy': -308.54069951701086,\n",
       " 'forces': array([[ 6.04935743e-06, -6.61138551e-06],\n",
       "        [ 0.00000000e+00, -6.04935743e-06],\n",
       "        [ 6.61138551e-06,  0.00000000e+00]])}"
      ]
     },
     "execution_count": 8,
     "metadata": {},
     "output_type": "execute_result"
    }
   ],
   "source": [
    "res"
   ]
  },
  {
   "cell_type": "code",
   "execution_count": null,
   "metadata": {},
   "outputs": [],
   "source": []
  }
 ],
 "metadata": {
  "kernelspec": {
   "display_name": "adis",
   "language": "python",
   "name": "python3"
  },
  "language_info": {
   "codemirror_mode": {
    "name": "ipython",
    "version": 3
   },
   "file_extension": ".py",
   "mimetype": "text/x-python",
   "name": "python",
   "nbconvert_exporter": "python",
   "pygments_lexer": "ipython3",
   "version": "3.12.1"
  }
 },
 "nbformat": 4,
 "nbformat_minor": 2
}
