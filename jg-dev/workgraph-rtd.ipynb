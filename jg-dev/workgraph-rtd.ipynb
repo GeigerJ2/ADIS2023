{
 "cells": [
  {
   "cell_type": "code",
   "execution_count": 1,
   "metadata": {},
   "outputs": [
    {
     "data": {
      "application/vnd.jupyter.widget-view+json": {
       "model_id": "7cdf40c1a8de4a29835f1bc109a4744e",
       "version_major": 2,
       "version_minor": 1
      },
      "text/plain": [
       "NodeGraphWidget(settings={'minmap': False}, style={'width': '80%', 'height': '600px'}, value={'name': 'add0', …"
      ]
     },
     "execution_count": 1,
     "metadata": {},
     "output_type": "execute_result"
    }
   ],
   "source": [
    "from aiida_workgraph import task\n",
    "from aiida import orm\n",
    "\n",
    "# define add task\n",
    "@task()\n",
    "def add(x, y):\n",
    "   return x + y\n",
    "\n",
    "# define multiply calcfunction task\n",
    "@task.calcfunction()\n",
    "def multiply(x, y):\n",
    "   return orm.Float(x + y)\n",
    "\n",
    "# export the task to html file so that it can be visualized in a browser\n",
    "add.task()\n",
    "\n",
    "# visualize the task in jupyter-notebook\n",
    "# add.task()"
   ]
  },
  {
   "cell_type": "code",
   "execution_count": 2,
   "metadata": {},
   "outputs": [
    {
     "name": "stdout",
     "output_type": "stream",
     "text": [
      "Inputs: InputCollection(node = \"add0\", sockets = [\"x\", \"y\", \"_wait\"]) <class 'aiida_workgraph.collection.WorkGraphInputSocketCollection'>\n",
      "Inputs: ['x', 'y', '_wait']\n",
      "Outputs: ['result', '_wait', '_outputs']\n"
     ]
    }
   ],
   "source": [
    "add1 = add.task()\n",
    "print(\"Inputs:\", add1.inputs, type(add1.inputs))\n",
    "print(\"Inputs:\", add1.inputs.keys())\n",
    "print(\"Outputs:\", add1.outputs.keys())\n"
   ]
  },
  {
   "cell_type": "code",
   "execution_count": 3,
   "metadata": {},
   "outputs": [
    {
     "data": {
      "application/vnd.jupyter.widget-view+json": {
       "model_id": "af677a7643a64b0986c0c4e55280fadf",
       "version_major": 2,
       "version_minor": 1
      },
      "text/plain": [
       "NodeGraphWidget(settings={'minimap': True}, style={'width': '90%', 'height': '600px'}, value={'name': 'my_firs…"
      ]
     },
     "execution_count": 3,
     "metadata": {},
     "output_type": "execute_result"
    }
   ],
   "source": [
    "from aiida_workgraph import WorkGraph, task\n",
    "wg = WorkGraph(name=\"my_first_workgraph\")\n",
    "\n",
    "# define add calcfunction task\n",
    "@task.calcfunction()\n",
    "def add(x, y):\n",
    "   return x + y\n",
    "\n",
    "add1 = wg.add_task(add, name=\"add1\")\n",
    "add2 = wg.add_task(add, name=\"add2\", x=add1.outputs[\"result\"])\n",
    "\n",
    "# wg.add_link(add1.outputs[\"result\"], add2.inputs[\"x\"])\n",
    "wg"
   ]
  },
  {
   "cell_type": "code",
   "execution_count": 4,
   "metadata": {},
   "outputs": [
    {
     "name": "stdout",
     "output_type": "stream",
     "text": [
      "Input ports:  ['x', 'y', '_wait']\n",
      "Ouput ports:  ['sum', 'diff', '_wait', '_outputs']\n"
     ]
    },
    {
     "data": {
      "text/html": [
       "\n",
       "        <iframe\n",
       "            width=\"100%\"\n",
       "            height=\"600px\"\n",
       "            src=\"html/add_minus0.html\"\n",
       "            frameborder=\"0\"\n",
       "            allowfullscreen\n",
       "            \n",
       "        ></iframe>\n",
       "        "
      ],
      "text/plain": [
       "<IPython.lib.display.IFrame at 0x78acb910bc40>"
      ]
     },
     "execution_count": 4,
     "metadata": {},
     "output_type": "execute_result"
    }
   ],
   "source": [
    "from aiida_workgraph import task\n",
    "\n",
    "\n",
    "@task(\n",
    "    outputs=[\n",
    "        {\"identifier\": \"Any\", \"name\": \"sum\"},\n",
    "        {\"identifier\": \"Any\", \"name\": \"diff\"},\n",
    "    ]\n",
    ")\n",
    "def add_minus(x, y):\n",
    "    return {\"sum\": x + y, \"difference\": x - y}\n",
    "\n",
    "\n",
    "print(\"Input ports: \", add_minus.task().inputs.keys())\n",
    "print(\"Ouput ports: \", add_minus.task().outputs.keys())\n",
    "add_minus.task().to_html()"
   ]
  },
  {
   "cell_type": "code",
   "execution_count": 5,
   "metadata": {},
   "outputs": [
    {
     "name": "stdout",
     "output_type": "stream",
     "text": [
      "metadata                      : Namespace           \n",
      "metadata.store_provenance     : Any                 \n",
      "metadata.description          : Any                 \n",
      "metadata.label                : Any                 \n",
      "metadata.call_link_label      : Any                 \n",
      "metadata.disable_cache        : Any                 \n",
      "x                             : AiiDAInt            \n",
      "y                             : AiiDAFloat          \n",
      "_wait                         : Any                 \n"
     ]
    }
   ],
   "source": [
    "from aiida_workgraph import task\n",
    "\n",
    "@task.calcfunction()\n",
    "def add(x: int, y: float) -> float:\n",
    "   return x + y\n",
    "\n",
    "for input in add.task().inputs:\n",
    "   print(\"{:30s}: {:20s}\".format(input.name, input.identifier))"
   ]
  },
  {
   "cell_type": "code",
   "execution_count": 6,
   "metadata": {},
   "outputs": [
    {
     "ename": "TypeError",
     "evalue": "list indices must be integers or slices, not str",
     "output_type": "error",
     "traceback": [
      "\u001b[0;31m---------------------------------------------------------------------------\u001b[0m",
      "\u001b[0;31mTypeError\u001b[0m                                 Traceback (most recent call last)",
      "Cell \u001b[0;32mIn[6], line 8\u001b[0m\n\u001b[1;32m      1\u001b[0m \u001b[38;5;28;01mfrom\u001b[39;00m \u001b[38;5;21;01maiida_workgraph\u001b[39;00m \u001b[38;5;28;01mimport\u001b[39;00m task\n\u001b[1;32m      2\u001b[0m \u001b[38;5;28;01mfrom\u001b[39;00m \u001b[38;5;21;01maiida\u001b[39;00m \u001b[38;5;28;01mimport\u001b[39;00m orm\n\u001b[1;32m      4\u001b[0m \u001b[38;5;129;43m@task\u001b[39;49m\u001b[38;5;241;43m.\u001b[39;49m\u001b[43mcalcfunction\u001b[49m\u001b[43m(\u001b[49m\n\u001b[1;32m      5\u001b[0m \u001b[43m    \u001b[49m\u001b[43minputs\u001b[49m\u001b[38;5;241;43m=\u001b[39;49m\u001b[43m[\u001b[49m\u001b[43m[\u001b[49m\u001b[43morm\u001b[49m\u001b[38;5;241;43m.\u001b[39;49m\u001b[43mInt\u001b[49m\u001b[43m,\u001b[49m\u001b[43m \u001b[49m\u001b[38;5;124;43m\"\u001b[39;49m\u001b[38;5;124;43mx\u001b[39;49m\u001b[38;5;124;43m\"\u001b[39;49m\u001b[43m]\u001b[49m\u001b[43m,\u001b[49m\u001b[43m \u001b[49m\u001b[43m[\u001b[49m\u001b[43morm\u001b[49m\u001b[38;5;241;43m.\u001b[39;49m\u001b[43mFloat\u001b[49m\u001b[43m,\u001b[49m\u001b[43m \u001b[49m\u001b[38;5;124;43m\"\u001b[39;49m\u001b[38;5;124;43my\u001b[39;49m\u001b[38;5;124;43m\"\u001b[39;49m\u001b[43m]\u001b[49m\u001b[43m]\u001b[49m\u001b[43m,\u001b[49m\n\u001b[1;32m      6\u001b[0m \u001b[43m    \u001b[49m\u001b[43moutputs\u001b[49m\u001b[38;5;241;43m=\u001b[39;49m\u001b[43m[\u001b[49m\u001b[43m[\u001b[49m\u001b[43morm\u001b[49m\u001b[38;5;241;43m.\u001b[39;49m\u001b[43mFloat\u001b[49m\u001b[43m,\u001b[49m\u001b[43m \u001b[49m\u001b[38;5;124;43m\"\u001b[39;49m\u001b[38;5;124;43mresult\u001b[39;49m\u001b[38;5;124;43m\"\u001b[39;49m\u001b[43m]\u001b[49m\u001b[43m]\u001b[49m\n\u001b[1;32m      7\u001b[0m \u001b[43m)\u001b[49m\n\u001b[0;32m----> 8\u001b[0m \u001b[38;5;28;43;01mdef\u001b[39;49;00m\u001b[43m \u001b[49m\u001b[38;5;21;43madd\u001b[39;49m\u001b[43m(\u001b[49m\u001b[43mx\u001b[49m\u001b[43m,\u001b[49m\u001b[43m \u001b[49m\u001b[43my\u001b[49m\u001b[43m)\u001b[49m\u001b[43m:\u001b[49m\n\u001b[1;32m      9\u001b[0m \u001b[43m    \u001b[49m\u001b[43mresult\u001b[49m\u001b[43m \u001b[49m\u001b[38;5;241;43m=\u001b[39;49m\u001b[43m \u001b[49m\u001b[43mx\u001b[49m\u001b[43m \u001b[49m\u001b[38;5;241;43m+\u001b[39;49m\u001b[43m \u001b[49m\u001b[43my\u001b[49m\n\u001b[1;32m     10\u001b[0m \u001b[43m    \u001b[49m\u001b[38;5;28;43;01mreturn\u001b[39;49;00m\u001b[43m \u001b[49m\u001b[43mresult\u001b[49m\n",
      "File \u001b[0;32m~/aiida_projects/workgraph-dev/git-repos/aiida-workgraph/aiida_workgraph/decorator.py:569\u001b[0m, in \u001b[0;36mTaskDecoratorCollection.calcfunction.<locals>.decorator\u001b[0;34m(func)\u001b[0m\n\u001b[1;32m    567\u001b[0m func_decorated \u001b[38;5;241m=\u001b[39m calcfunction(func)\n\u001b[1;32m    568\u001b[0m \u001b[38;5;66;03m# Then, apply task decorator\u001b[39;00m\n\u001b[0;32m--> 569\u001b[0m task_decorated \u001b[38;5;241m=\u001b[39m \u001b[43mbuild_task_from_callable\u001b[49m\u001b[43m(\u001b[49m\n\u001b[1;32m    570\u001b[0m \u001b[43m    \u001b[49m\u001b[43mfunc_decorated\u001b[49m\u001b[43m,\u001b[49m\n\u001b[1;32m    571\u001b[0m \u001b[43m    \u001b[49m\u001b[43minputs\u001b[49m\u001b[38;5;241;43m=\u001b[39;49m\u001b[43mkwargs\u001b[49m\u001b[38;5;241;43m.\u001b[39;49m\u001b[43mget\u001b[49m\u001b[43m(\u001b[49m\u001b[38;5;124;43m\"\u001b[39;49m\u001b[38;5;124;43minputs\u001b[39;49m\u001b[38;5;124;43m\"\u001b[39;49m\u001b[43m,\u001b[49m\u001b[43m \u001b[49m\u001b[43m[\u001b[49m\u001b[43m]\u001b[49m\u001b[43m)\u001b[49m\u001b[43m,\u001b[49m\n\u001b[1;32m    572\u001b[0m \u001b[43m    \u001b[49m\u001b[43moutputs\u001b[49m\u001b[38;5;241;43m=\u001b[39;49m\u001b[43mkwargs\u001b[49m\u001b[38;5;241;43m.\u001b[39;49m\u001b[43mget\u001b[49m\u001b[43m(\u001b[49m\u001b[38;5;124;43m\"\u001b[39;49m\u001b[38;5;124;43moutputs\u001b[39;49m\u001b[38;5;124;43m\"\u001b[39;49m\u001b[43m,\u001b[49m\u001b[43m \u001b[49m\u001b[43m[\u001b[49m\u001b[43m]\u001b[49m\u001b[43m)\u001b[49m\u001b[43m,\u001b[49m\n\u001b[1;32m    573\u001b[0m \u001b[43m\u001b[49m\u001b[43m)\u001b[49m\n\u001b[1;32m    574\u001b[0m identifier \u001b[38;5;241m=\u001b[39m kwargs\u001b[38;5;241m.\u001b[39mget(\u001b[38;5;124m\"\u001b[39m\u001b[38;5;124midentifier\u001b[39m\u001b[38;5;124m\"\u001b[39m, \u001b[38;5;28;01mNone\u001b[39;00m)\n\u001b[1;32m    575\u001b[0m func_decorated\u001b[38;5;241m.\u001b[39midentifier \u001b[38;5;241m=\u001b[39m identifier \u001b[38;5;28;01mif\u001b[39;00m identifier \u001b[38;5;28;01melse\u001b[39;00m func\u001b[38;5;241m.\u001b[39m\u001b[38;5;18m__name__\u001b[39m\n",
      "File \u001b[0;32m~/aiida_projects/workgraph-dev/git-repos/aiida-workgraph/aiida_workgraph/decorator.py:163\u001b[0m, in \u001b[0;36mbuild_task_from_callable\u001b[0;34m(executor, inputs, outputs)\u001b[0m\n\u001b[1;32m    161\u001b[0m     tdata[\u001b[38;5;124m\"\u001b[39m\u001b[38;5;124mtask_type\u001b[39m\u001b[38;5;124m\"\u001b[39m] \u001b[38;5;241m=\u001b[39m task_types\u001b[38;5;241m.\u001b[39mget(executor\u001b[38;5;241m.\u001b[39mnode_class, \u001b[38;5;124m\"\u001b[39m\u001b[38;5;124mNORMAL\u001b[39m\u001b[38;5;124m\"\u001b[39m)\n\u001b[1;32m    162\u001b[0m     tdata[\u001b[38;5;124m\"\u001b[39m\u001b[38;5;124mexecutor\u001b[39m\u001b[38;5;124m\"\u001b[39m] \u001b[38;5;241m=\u001b[39m executor\n\u001b[0;32m--> 163\u001b[0m     \u001b[38;5;28;01mreturn\u001b[39;00m \u001b[43mbuild_task_from_AiiDA\u001b[49m\u001b[43m(\u001b[49m\u001b[43mtdata\u001b[49m\u001b[43m,\u001b[49m\u001b[43m \u001b[49m\u001b[43minputs\u001b[49m\u001b[38;5;241;43m=\u001b[39;49m\u001b[43minputs\u001b[49m\u001b[43m,\u001b[49m\u001b[43m \u001b[49m\u001b[43moutputs\u001b[49m\u001b[38;5;241;43m=\u001b[39;49m\u001b[43moutputs\u001b[49m\u001b[43m)\u001b[49m[\u001b[38;5;241m0\u001b[39m]\n\u001b[1;32m    164\u001b[0m \u001b[38;5;28;01melse\u001b[39;00m:\n\u001b[1;32m    165\u001b[0m     tdata[\u001b[38;5;124m\"\u001b[39m\u001b[38;5;124mtask_type\u001b[39m\u001b[38;5;124m\"\u001b[39m] \u001b[38;5;241m=\u001b[39m \u001b[38;5;124m\"\u001b[39m\u001b[38;5;124mNORMAL\u001b[39m\u001b[38;5;124m\"\u001b[39m\n",
      "File \u001b[0;32m~/aiida_projects/workgraph-dev/git-repos/aiida-workgraph/aiida_workgraph/decorator.py:208\u001b[0m, in \u001b[0;36mbuild_task_from_AiiDA\u001b[0;34m(tdata, inputs, outputs)\u001b[0m\n\u001b[1;32m    206\u001b[0m kwargs \u001b[38;5;241m=\u001b[39m []\n\u001b[1;32m    207\u001b[0m \u001b[38;5;28;01mfor\u001b[39;00m _key, port \u001b[38;5;129;01min\u001b[39;00m spec\u001b[38;5;241m.\u001b[39minputs\u001b[38;5;241m.\u001b[39mports\u001b[38;5;241m.\u001b[39mitems():\n\u001b[0;32m--> 208\u001b[0m     \u001b[43madd_input_recursive\u001b[49m\u001b[43m(\u001b[49m\u001b[43minputs\u001b[49m\u001b[43m,\u001b[49m\u001b[43m \u001b[49m\u001b[43mport\u001b[49m\u001b[43m,\u001b[49m\u001b[43m \u001b[49m\u001b[43margs\u001b[49m\u001b[43m,\u001b[49m\u001b[43m \u001b[49m\u001b[43mkwargs\u001b[49m\u001b[43m,\u001b[49m\u001b[43m \u001b[49m\u001b[43mrequired\u001b[49m\u001b[38;5;241;43m=\u001b[39;49m\u001b[43mport\u001b[49m\u001b[38;5;241;43m.\u001b[39;49m\u001b[43mrequired\u001b[49m\u001b[43m)\u001b[49m\n\u001b[1;32m    209\u001b[0m \u001b[38;5;28;01mfor\u001b[39;00m _key, port \u001b[38;5;129;01min\u001b[39;00m spec\u001b[38;5;241m.\u001b[39moutputs\u001b[38;5;241m.\u001b[39mports\u001b[38;5;241m.\u001b[39mitems():\n\u001b[1;32m    210\u001b[0m     add_output_recursive(outputs, port, required\u001b[38;5;241m=\u001b[39mport\u001b[38;5;241m.\u001b[39mrequired)\n",
      "File \u001b[0;32m~/aiida_projects/workgraph-dev/git-repos/aiida-workgraph/aiida_workgraph/decorator.py:48\u001b[0m, in \u001b[0;36madd_input_recursive\u001b[0;34m(inputs, port, args, kwargs, prefix, required)\u001b[0m\n\u001b[1;32m     46\u001b[0m     port_name \u001b[38;5;241m=\u001b[39m \u001b[38;5;124mf\u001b[39m\u001b[38;5;124m\"\u001b[39m\u001b[38;5;132;01m{\u001b[39;00mprefix\u001b[38;5;132;01m}\u001b[39;00m\u001b[38;5;124m.\u001b[39m\u001b[38;5;132;01m{\u001b[39;00mport\u001b[38;5;241m.\u001b[39mname\u001b[38;5;132;01m}\u001b[39;00m\u001b[38;5;124m\"\u001b[39m\n\u001b[1;32m     47\u001b[0m required \u001b[38;5;241m=\u001b[39m port\u001b[38;5;241m.\u001b[39mrequired \u001b[38;5;129;01mand\u001b[39;00m required\n\u001b[0;32m---> 48\u001b[0m input_names \u001b[38;5;241m=\u001b[39m [\u001b[38;5;28minput\u001b[39m[\u001b[38;5;124m\"\u001b[39m\u001b[38;5;124mname\u001b[39m\u001b[38;5;124m\"\u001b[39m] \u001b[38;5;28;01mfor\u001b[39;00m \u001b[38;5;28minput\u001b[39m \u001b[38;5;129;01min\u001b[39;00m inputs]\n\u001b[1;32m     49\u001b[0m \u001b[38;5;28;01mif\u001b[39;00m \u001b[38;5;28misinstance\u001b[39m(port, PortNamespace):\n\u001b[1;32m     50\u001b[0m     \u001b[38;5;66;03m# TODO the default value is {} could cause problem, because the address of the dict is the same,\u001b[39;00m\n\u001b[1;32m     51\u001b[0m     \u001b[38;5;66;03m# so if you change the value of one port, the value of all the ports of other tasks will be changed\u001b[39;00m\n\u001b[1;32m     52\u001b[0m     \u001b[38;5;66;03m# consider to use None as default value\u001b[39;00m\n\u001b[1;32m     53\u001b[0m     \u001b[38;5;28;01mif\u001b[39;00m port_name \u001b[38;5;129;01mnot\u001b[39;00m \u001b[38;5;129;01min\u001b[39;00m input_names:\n",
      "File \u001b[0;32m~/aiida_projects/workgraph-dev/git-repos/aiida-workgraph/aiida_workgraph/decorator.py:48\u001b[0m, in \u001b[0;36m<listcomp>\u001b[0;34m(.0)\u001b[0m\n\u001b[1;32m     46\u001b[0m     port_name \u001b[38;5;241m=\u001b[39m \u001b[38;5;124mf\u001b[39m\u001b[38;5;124m\"\u001b[39m\u001b[38;5;132;01m{\u001b[39;00mprefix\u001b[38;5;132;01m}\u001b[39;00m\u001b[38;5;124m.\u001b[39m\u001b[38;5;132;01m{\u001b[39;00mport\u001b[38;5;241m.\u001b[39mname\u001b[38;5;132;01m}\u001b[39;00m\u001b[38;5;124m\"\u001b[39m\n\u001b[1;32m     47\u001b[0m required \u001b[38;5;241m=\u001b[39m port\u001b[38;5;241m.\u001b[39mrequired \u001b[38;5;129;01mand\u001b[39;00m required\n\u001b[0;32m---> 48\u001b[0m input_names \u001b[38;5;241m=\u001b[39m [\u001b[38;5;28;43minput\u001b[39;49m\u001b[43m[\u001b[49m\u001b[38;5;124;43m\"\u001b[39;49m\u001b[38;5;124;43mname\u001b[39;49m\u001b[38;5;124;43m\"\u001b[39;49m\u001b[43m]\u001b[49m \u001b[38;5;28;01mfor\u001b[39;00m \u001b[38;5;28minput\u001b[39m \u001b[38;5;129;01min\u001b[39;00m inputs]\n\u001b[1;32m     49\u001b[0m \u001b[38;5;28;01mif\u001b[39;00m \u001b[38;5;28misinstance\u001b[39m(port, PortNamespace):\n\u001b[1;32m     50\u001b[0m     \u001b[38;5;66;03m# TODO the default value is {} could cause problem, because the address of the dict is the same,\u001b[39;00m\n\u001b[1;32m     51\u001b[0m     \u001b[38;5;66;03m# so if you change the value of one port, the value of all the ports of other tasks will be changed\u001b[39;00m\n\u001b[1;32m     52\u001b[0m     \u001b[38;5;66;03m# consider to use None as default value\u001b[39;00m\n\u001b[1;32m     53\u001b[0m     \u001b[38;5;28;01mif\u001b[39;00m port_name \u001b[38;5;129;01mnot\u001b[39;00m \u001b[38;5;129;01min\u001b[39;00m input_names:\n",
      "\u001b[0;31mTypeError\u001b[0m: list indices must be integers or slices, not str"
     ]
    }
   ],
   "source": [
    "from aiida_workgraph import task\n",
    "from aiida import orm\n",
    "\n",
    "@task.calcfunction(\n",
    "    inputs=[[orm.Int, \"x\"], [orm.Float, \"y\"]],\n",
    "    outputs=[[orm.Float, \"result\"]]\n",
    ")\n",
    "def add(x, y):\n",
    "    result = x + y\n",
    "    return result"
   ]
  },
  {
   "cell_type": "code",
   "execution_count": null,
   "metadata": {},
   "outputs": [
    {
     "name": "stdout",
     "output_type": "stream",
     "text": [
      "The aiida extension is already loaded. To reload it, use:\n",
      "  %reload_ext aiida\n"
     ]
    }
   ],
   "source": [
    "%load_ext aiida\n",
    "%aiida"
   ]
  },
  {
   "cell_type": "code",
   "execution_count": null,
   "metadata": {},
   "outputs": [],
   "source": [
    "from aiida.engine import calcfunction\n",
    "\n",
    "@calcfunction\n",
    "def add(x, y):\n",
    "    return x + y\n",
    "\n",
    "@calcfunction\n",
    "def multiply(x, y):\n",
    "    return x * y"
   ]
  },
  {
   "cell_type": "code",
   "execution_count": 8,
   "metadata": {},
   "outputs": [
    {
     "data": {
      "application/vnd.jupyter.widget-view+json": {
       "model_id": "1086e2b62a234b3497f6ace0f09c980d",
       "version_major": 2,
       "version_minor": 1
      },
      "text/plain": [
       "NodeGraphWidget(settings={'minimap': True}, style={'width': '90%', 'height': '600px'}, value={'name': 'add_mul…"
      ]
     },
     "execution_count": 8,
     "metadata": {},
     "output_type": "execute_result"
    }
   ],
   "source": [
    "from aiida_workgraph import WorkGraph\n",
    "\n",
    "wg = WorkGraph(\"add_multiply_workflow\")\n",
    "wg.add_task(add, name=\"add1\")\n",
    "wg.add_task(multiply, name=\"multiply1\", x = wg.tasks[\"add1\"].outputs.result)\n",
    "# export the workgraph to html file so that it can be visualized in a browser\n",
    "wg\n",
    "# visualize the workgraph in jupyter-notebook\n",
    "# wg"
   ]
  },
  {
   "cell_type": "code",
   "execution_count": 21,
   "metadata": {},
   "outputs": [
    {
     "ename": "SyntaxError",
     "evalue": "invalid syntax (3304946348.py, line 6)",
     "output_type": "error",
     "traceback": [
      "\u001b[0;36m  Cell \u001b[0;32mIn[21], line 6\u001b[0;36m\u001b[0m\n\u001b[0;31m    wg.add_task(multiply, name=\"multiply1\", x=task_of_add.outputs.)\u001b[0m\n\u001b[0m                                                                  ^\u001b[0m\n\u001b[0;31mSyntaxError\u001b[0m\u001b[0;31m:\u001b[0m invalid syntax\n"
     ]
    }
   ],
   "source": [
    "from aiida_workgraph import WorkGraph\n",
    "\n",
    "wg = WorkGraph(\"add_multiply_workflow\")\n",
    "task_of_add = wg.add_task(add, name=\"add1\")\n",
    "# wg.add_task(multiply, name=\"multiply1\", x=task_of_add.outputs[\"result\"])\n",
    "# wg.add_task(multiply, name=\"multiply1\", x=task_of_add.outputs.)\n",
    "# wg.add_task(multiply, name=\"multiply1\", x=wg.tasks['add1'].outputs[\"result\"])\n",
    "# export the workgraph to html file so that it can be visualized in a browser\n",
    "wg\n",
    "# visualize the workgraph in jupyter-notebook\n",
    "# wg"
   ]
  },
  {
   "cell_type": "code",
   "execution_count": 24,
   "metadata": {},
   "outputs": [
    {
     "data": {
      "text/plain": [
       "NodeLink(from=\"add1.result\", to=\"multiply1.x\")"
      ]
     },
     "execution_count": 24,
     "metadata": {},
     "output_type": "execute_result"
    }
   ],
   "source": [
    "wg = WorkGraph()\n",
    "add_task = wg.add_task(add, name=\"add1\", x=0)\n",
    "multiply_task = wg.add_task(multiply, name=\"multiply1\")\n",
    "wg.add_link(add_task.outputs.result, multiply_task.inputs.x)\n"
   ]
  },
  {
   "cell_type": "code",
   "execution_count": 25,
   "metadata": {},
   "outputs": [
    {
     "data": {
      "application/vnd.jupyter.widget-view+json": {
       "model_id": "10218287129a4fc48a6fd3301730be5e",
       "version_major": 2,
       "version_minor": 1
      },
      "text/plain": [
       "NodeGraphWidget(settings={'minmap': False}, style={'width': '80%', 'height': '600px'}, value={'name': 'add2', …"
      ]
     },
     "execution_count": 25,
     "metadata": {},
     "output_type": "execute_result"
    }
   ],
   "source": [
    "from aiida_workgraph import WorkGraph\n",
    "from aiida.calculations.arithmetic.add import ArithmeticAddCalculation\n",
    "\n",
    "wg = WorkGraph(\"test_calcjob\")\n",
    "new = wg.add_task\n",
    "new(ArithmeticAddCalculation, name=\"add1\")\n",
    "wg.add_task(ArithmeticAddCalculation, name=\"add2\", x=wg.tasks[\"add1\"].outputs[\"sum\"])"
   ]
  },
  {
   "cell_type": "code",
   "execution_count": 26,
   "metadata": {},
   "outputs": [
    {
     "data": {
      "application/vnd.jupyter.widget-view+json": {
       "model_id": "fb792ef61fb540fa87a42197d0d400de",
       "version_major": 2,
       "version_minor": 1
      },
      "text/plain": [
       "NodeGraphWidget(settings={'minimap': True}, style={'width': '90%', 'height': '600px'}, value={'name': 'atomiza…"
      ]
     },
     "execution_count": 26,
     "metadata": {},
     "output_type": "execute_result"
    }
   ],
   "source": [
    "from aiida_workgraph import WorkGraph\n",
    "from aiida.engine import calcfunction\n",
    "from aiida_quantumespresso.calculations.pw import PwCalculation\n",
    "\n",
    "\n",
    "@calcfunction\n",
    "def atomization_energy(output_atom, output_mol):\n",
    "    from aiida.orm import Float\n",
    "\n",
    "    e = output_atom[\"energy\"] * output_mol[\"number_of_atoms\"] - output_mol[\"energy\"]\n",
    "    return Float(e)\n",
    "\n",
    "\n",
    "wg = WorkGraph(\"atomization_energy\")\n",
    "pw_atom = wg.add_task(PwCalculation, name=\"pw_atom\")\n",
    "pw_mol = wg.add_task(PwCalculation, name=\"pw_mol\")\n",
    "# create the task to calculate the atomization energy\n",
    "wg.add_task(\n",
    "    atomization_energy,\n",
    "    name=\"atomization_energy\",\n",
    "    output_atom=pw_atom.outputs[\"output_parameters\"],\n",
    "    output_mol=pw_mol.outputs[\"output_parameters\"],\n",
    ")\n",
    "\n",
    "wg"
   ]
  },
  {
   "cell_type": "code",
   "execution_count": 29,
   "metadata": {},
   "outputs": [
    {
     "data": {
      "application/vnd.jupyter.widget-view+json": {
       "model_id": "3deff19e157f4ca4be4b30f0061e4440",
       "version_major": 2,
       "version_minor": 1
      },
      "text/plain": [
       "NodeGraphWidget(settings={'minmap': False}, style={'width': '80%', 'height': '600px'}, value={'name': 'add2', …"
      ]
     },
     "execution_count": 29,
     "metadata": {},
     "output_type": "execute_result"
    }
   ],
   "source": [
    "# Create a WorkGraph which is dynamically generated based on the input\n",
    "# then we output the result of from the context\n",
    "from aiida_workgraph import task\n",
    "\n",
    "@task.graph_builder(outputs = [{\"name\": \"result\", \"from\": \"context.result\"}])\n",
    "def add_multiply_if_generator(x, y):\n",
    "    wg = WorkGraph()\n",
    "    if x.value > 0:\n",
    "        add1 = wg.add_task(add, name=\"add1\", x=x, y=y)\n",
    "        # export the result of add1 to the context, so that context.result = add1.results\n",
    "        add1.set_context({\"result\": \"result\"})\n",
    "    else:\n",
    "        multiply1 = wg.add_task(multiply, name=\"multiply1\", x=x, y=y)\n",
    "        # export the result of multiply1 to the context\n",
    "        multiply1.set_context({\"result\": \"result\"})\n",
    "    return wg\n",
    "\n",
    "wg = WorkGraph(\"if_task\")\n",
    "wg.add_task(add, name=\"add1\")\n",
    "wg.add_task(add_multiply_if_generator, name=\"add_multiply_if1\", x = wg.tasks[\"add1\"].outputs[\"result\"])\n",
    "wg.add_task(add, name=\"add2\", x = wg.tasks[\"add_multiply_if1\"].outputs[\"result\"])\n",
    "# wg"
   ]
  },
  {
   "cell_type": "code",
   "execution_count": 30,
   "metadata": {},
   "outputs": [
    {
     "name": "stdout",
     "output_type": "stream",
     "text": [
      "WorkGraph process created, PK: 1671\n",
      "\n",
      "Result of add2 is uuid: a01f08aa-e308-464a-bf27-01cb02c50f10 (pk: 1683) value: 7 \n",
      "\n",
      "\n"
     ]
    }
   ],
   "source": [
    "wg.submit(\n",
    "    inputs={\n",
    "        \"add1\": {\"x\": 1, \"y\": 2},\n",
    "        \"add_multiply_if1\": {\"y\": 2},\n",
    "        \"add2\": {\"y\": 2},\n",
    "    },\n",
    "    wait=True,\n",
    ")\n",
    "# ------------------------- Print the output -------------------------\n",
    "assert wg.tasks[\"add2\"].outputs[\"result\"].value == 7\n",
    "print(\"\\nResult of add2 is {} \\n\\n\".format(wg.tasks[\"add2\"].outputs[\"result\"].value))"
   ]
  },
  {
   "cell_type": "code",
   "execution_count": 32,
   "metadata": {},
   "outputs": [
    {
     "data": {
      "application/vnd.jupyter.widget-view+json": {
       "model_id": "2d23097d600745efa57e9e3f1a8e7c4a",
       "version_major": 2,
       "version_minor": 1
      },
      "text/plain": [
       "NodeGraphWidget(settings={'minimap': True}, style={'width': '90%', 'height': '600px'}, value={'name': 'relax_e…"
      ]
     },
     "execution_count": 32,
     "metadata": {},
     "output_type": "execute_result"
    }
   ],
   "source": [
    "from aiida import orm\n",
    "from aiida_workgraph import task\n",
    "\n",
    "# explicitly define the output socket name to match the return value of the function\n",
    "@task.calcfunction(outputs=[{\"name\": \"structures\"}])\n",
    "def scale_structure(structure, scales):\n",
    "    \"\"\"Scale the structure by the given scales.\"\"\"\n",
    "    atoms = structure.get_ase()\n",
    "    structures = {}\n",
    "    for i in range(len(scales)):\n",
    "        atoms1 = atoms.copy()\n",
    "        atoms1.set_cell(atoms.cell * scales[i], scale_atoms=True)\n",
    "        structure = orm.StructureData(ase=atoms1)\n",
    "        structures[f\"s_{i}\"] = structure\n",
    "    return {\"structures\": structures}\n",
    "\n",
    "# Output result from context to the output socket\n",
    "@task.graph_builder(outputs=[{\"name\": \"result\", \"from\": \"context.result\"}])\n",
    "def all_scf(structures, scf_inputs):\n",
    "    \"\"\"Run the scf calculation for each structure.\"\"\"\n",
    "    from aiida_workgraph import WorkGraph\n",
    "    from aiida_quantumespresso.calculations.pw import PwCalculation\n",
    "    wg = WorkGraph()\n",
    "    for key, structure in structures.items():\n",
    "        pw1 = wg.add_task(PwCalculation, name=f\"pw1_{key}\", structure=structure)\n",
    "        pw1.set(scf_inputs)\n",
    "        # save the output parameters to the context\n",
    "        pw1.set_context({\"output_parameters\": f\"result.{key}\"})\n",
    "    return wg\n",
    "\n",
    "\n",
    "@task.calcfunction()\n",
    "# because this is a calcfunction, and the input datas are dynamic, we need use **datas.\n",
    "def eos(**datas):\n",
    "    \"\"\"Fit the EOS of the data.\"\"\"\n",
    "    from ase.eos import EquationOfState\n",
    "\n",
    "    volumes = []\n",
    "    energies = []\n",
    "    for _, data in datas.items():\n",
    "        volumes.append(data.dict.volume)\n",
    "        energies.append(data.dict.energy)\n",
    "        unit = data.dict.energy_units\n",
    "    #\n",
    "    eos = EquationOfState(volumes, energies)\n",
    "    v0, e0, B = eos.fit()\n",
    "    eos = orm.Dict({\"unit\": unit, \"v0\": v0, \"e0\": e0, \"B\": B})\n",
    "    return eos\n",
    "\n",
    "from aiida_workgraph import WorkGraph\n",
    "\n",
    "wg = WorkGraph(\"eos\")\n",
    "scale_structure1 = wg.add_task(scale_structure, name=\"scale_structure1\")\n",
    "all_scf1 = wg.add_task(all_scf, name=\"all_scf1\", structures=scale_structure1.outputs[\"structures\"])\n",
    "eos1 = wg.add_task(eos, name=\"eos1\", datas=all_scf1.outputs[\"result\"])\n",
    "\n",
    "from aiida_workgraph import WorkGraph, task\n",
    "from aiida_quantumespresso.calculations.pw import PwCalculation\n",
    "\n",
    "@task.graph_builder(outputs=[{\"name\": \"result\", \"from\": \"eos1.result\"}])\n",
    "def eos_workgraph(structure=None, scales=None, scf_inputs=None):\n",
    "    wg = WorkGraph(\"eos\")\n",
    "    scale_structure1 = wg.add_task(scale_structure, name=\"scale_structure1\", structure=structure, scales=scales)\n",
    "    all_scf1 = wg.add_task(all_scf, name=\"all_scf1\", scf_inputs=scf_inputs)\n",
    "    eos1 = wg.add_task(eos, name=\"eos1\")\n",
    "    wg.add_link(scale_structure1.outputs[\"structures\"], all_scf1.inputs[\"structures\"])\n",
    "    wg.add_link(all_scf1.outputs[\"result\"], eos1.inputs[\"datas\"])\n",
    "    return wg\n",
    "\n",
    "\n",
    "#-------------------------------------------------------\n",
    "wg = WorkGraph(\"relax_eos\")\n",
    "relax_task = wg.add_task(PwCalculation, name=\"relax1\")\n",
    "eos_wg_task = wg.add_task(eos_workgraph, name=\"eos1\", structure=relax_task.outputs[\"output_structure\"])\n",
    "wg"
   ]
  }
 ],
 "metadata": {
  "kernelspec": {
   "display_name": "WORKGRAPH-DEV",
   "language": "python",
   "name": "python3"
  },
  "language_info": {
   "codemirror_mode": {
    "name": "ipython",
    "version": 3
   },
   "file_extension": ".py",
   "mimetype": "text/x-python",
   "name": "python",
   "nbconvert_exporter": "python",
   "pygments_lexer": "ipython3",
   "version": "3.10.12"
  }
 },
 "nbformat": 4,
 "nbformat_minor": 2
}
