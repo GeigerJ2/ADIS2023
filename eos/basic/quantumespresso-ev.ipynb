{
 "cells": [
  {
   "cell_type": "code",
   "execution_count": null,
   "metadata": {},
   "outputs": [],
   "source": [
    "from ase.build import bulk\n",
    "from ase.calculators.espresso import Espresso\n",
    "from ase.io import write\n",
    "from pwtools import io"
   ]
  },
  {
   "cell_type": "code",
   "execution_count": null,
   "metadata": {
    "tags": []
   },
   "outputs": [],
   "source": [
    "import subprocess"
   ]
  },
  {
   "cell_type": "code",
   "execution_count": null,
   "metadata": {},
   "outputs": [],
   "source": [
    "import numpy as np"
   ]
  },
  {
   "cell_type": "code",
   "execution_count": null,
   "metadata": {},
   "outputs": [],
   "source": [
    "import matplotlib.pyplot as plt"
   ]
  },
  {
   "cell_type": "markdown",
   "metadata": {},
   "source": [
    "# Quantum Espresso Inputs"
   ]
  },
  {
   "cell_type": "code",
   "execution_count": null,
   "metadata": {},
   "outputs": [],
   "source": [
    "pseudopotentials = {\"Al\": \"Al.pbe-n-kjpaw_psl.1.0.0.UPF\"}"
   ]
  },
  {
   "cell_type": "code",
   "execution_count": null,
   "metadata": {},
   "outputs": [],
   "source": [
    "# https://www.quantum-espresso.org/Doc/INPUT_PW.html\n",
    "input_data_relax = {\n",
    "    'calculation': 'vc-relax', # A string describing the task to be performed.\n",
    "    'ecutwfc': 29.49,  # kinetic energy cutoff (Ry) for wavefunctions\n",
    "    'conv_thr': 1e-06,  # Convergence threshold for selfconsistency\n",
    "    'diagonalization': 'david',  \n",
    "    'electron_maxstep': 100,  # maximum number of iterations in a scf step. \n",
    "    'nstep': 200,  # number of molecular-dynamics or structural optimization steps performed in this run.\n",
    "    'etot_conv_thr': 1e-4,  # Convergence threshold on total energy (a.u) for ionic minimization\n",
    "    'forc_conv_thr': 1e-3,  # Convergence threshold on forces (a.u) for ionic minimization\n",
    "    'smearing': 'methfessel-paxton',  # ordinary Gaussian spreading (Default)\n",
    "}"
   ]
  },
  {
   "cell_type": "code",
   "execution_count": null,
   "metadata": {},
   "outputs": [],
   "source": [
    "input_data_static = {\n",
    "    'calculation': 'scf', # A string describing the task to be performed.\n",
    "    'ecutwfc': 29.49,  # kinetic energy cutoff (Ry) for wavefunctions\n",
    "    'conv_thr': 1e-06,  # Convergence threshold for selfconsistency\n",
    "    'diagonalization': 'david',  \n",
    "    'electron_maxstep': 100,  # maximum number of iterations in a scf step. \n",
    "    'smearing': 'methfessel-paxton',  # ordinary Gaussian spreading (Default)\n",
    "}"
   ]
  },
  {
   "cell_type": "markdown",
   "metadata": {},
   "source": [
    "# Workflow"
   ]
  },
  {
   "cell_type": "markdown",
   "metadata": {},
   "source": [
    "## Structure Optimization"
   ]
  },
  {
   "cell_type": "code",
   "execution_count": null,
   "metadata": {},
   "outputs": [],
   "source": [
    "structure = bulk('Al', a=4.15, cubic=True)"
   ]
  },
  {
   "cell_type": "code",
   "execution_count": null,
   "metadata": {
    "tags": []
   },
   "outputs": [],
   "source": [
    "write(\n",
    "    'relax.pwi', \n",
    "    structure, \n",
    "    Crystal=True, \n",
    "    kpts=(3, 3, 3), \n",
    "    input_data=input_data_relax, \n",
    "    pseudopotentials=pseudopotentials,\n",
    "    tstress=True, \n",
    "    tprnfor=True\n",
    ")"
   ]
  },
  {
   "cell_type": "code",
   "execution_count": null,
   "metadata": {},
   "outputs": [],
   "source": [
    "subprocess.check_output(\"mpirun -np 4 pw.x -in relax.pwi > relax.pwo\", shell=True, universal_newlines=True)"
   ]
  },
  {
   "cell_type": "code",
   "execution_count": null,
   "metadata": {
    "tags": []
   },
   "outputs": [],
   "source": [
    "structure_opt = io.read_pw_md('relax.pwo')[-1].get_ase_atoms()\n",
    "structure_opt"
   ]
  },
  {
   "cell_type": "markdown",
   "metadata": {},
   "source": [
    "## Energy Volume Curve"
   ]
  },
  {
   "cell_type": "code",
   "execution_count": null,
   "metadata": {},
   "outputs": [],
   "source": [
    "energy_lst, volume_lst = [], []\n",
    "for strain in np.linspace(0.9, 1.1, 5):\n",
    "    structure_strain = structure_opt.copy()\n",
    "    structure_strain = structure.copy()\n",
    "    structure_strain.set_cell(structure_strain.cell * strain**(1/3), scale_atoms=True)\n",
    "    write(\n",
    "        'strain.pwi', \n",
    "        structure_strain, \n",
    "        Crystal=True, \n",
    "        kpts=(3, 3, 3), \n",
    "        input_data=input_data_static, \n",
    "        pseudopotentials=pseudopotentials,\n",
    "        tstress=True, \n",
    "        tprnfor=True\n",
    "    )\n",
    "    subprocess.check_output(\"mpirun -np 4 pw.x -in strain.pwi > strain.pwo\", shell=True, universal_newlines=True)\n",
    "    out = io.read_pw_scf('strain.pwo')\n",
    "    energy_lst.append(out.etot)\n",
    "    volume_lst.append(out.volume)"
   ]
  },
  {
   "cell_type": "markdown",
   "metadata": {},
   "source": [
    "# Result"
   ]
  },
  {
   "cell_type": "code",
   "execution_count": null,
   "metadata": {},
   "outputs": [],
   "source": [
    "plt.plot(volume_lst, energy_lst)\n",
    "plt.xlabel(\"Volume\")\n",
    "plt.ylabel(\"Energy\")"
   ]
  },
  {
   "cell_type": "code",
   "execution_count": null,
   "metadata": {},
   "outputs": [],
   "source": []
  }
 ],
 "metadata": {
  "kernelspec": {
   "display_name": "Python 3 (ipykernel)",
   "language": "python",
   "name": "python3"
  },
  "language_info": {
   "codemirror_mode": {
    "name": "ipython",
    "version": 3
   },
   "file_extension": ".py",
   "mimetype": "text/x-python",
   "name": "python",
   "nbconvert_exporter": "python",
   "pygments_lexer": "ipython3",
   "version": "3.10.13"
  }
 },
 "nbformat": 4,
 "nbformat_minor": 4
}
