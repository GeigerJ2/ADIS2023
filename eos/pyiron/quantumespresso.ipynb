{
 "cells": [
  {
   "cell_type": "code",
   "execution_count": 1,
   "metadata": {},
   "outputs": [],
   "source": [
    "import os"
   ]
  },
  {
   "cell_type": "code",
   "execution_count": 2,
   "metadata": {},
   "outputs": [],
   "source": [
    "import numpy as np"
   ]
  },
  {
   "cell_type": "code",
   "execution_count": 3,
   "metadata": {},
   "outputs": [],
   "source": [
    "from ase.build import bulk\n",
    "from ase.io import write\n",
    "from pwtools import io"
   ]
  },
  {
   "cell_type": "code",
   "execution_count": 4,
   "metadata": {},
   "outputs": [],
   "source": [
    "from ase.atoms import Atoms"
   ]
  },
  {
   "cell_type": "code",
   "execution_count": 5,
   "metadata": {},
   "outputs": [],
   "source": [
    "import matplotlib.pyplot as plt"
   ]
  },
  {
   "cell_type": "code",
   "execution_count": 6,
   "metadata": {},
   "outputs": [],
   "source": [
    "from pyiron_base import GenericJob, Project"
   ]
  },
  {
   "cell_type": "markdown",
   "metadata": {},
   "source": [
    "# Quantum Espresso Interface"
   ]
  },
  {
   "cell_type": "code",
   "execution_count": 7,
   "metadata": {},
   "outputs": [],
   "source": [
    "class QuantumEspressoJob(GenericJob):\n",
    "    def __init__(self, project, job_name):\n",
    "        super(QuantumEspressoJob, self).__init__(project, job_name)\n",
    "        self.structure = None \n",
    "        self.input_data = {'calculation': 'scf'}\n",
    "        self.executable = \"mpirun -np 1 pw.x -in espresso.pwi > espresso.pwo\"\n",
    "        self.pseudopotentials = {}\n",
    "        self.kpoints = (3, 3, 3)\n",
    "\n",
    "    def calc_minimize(self):\n",
    "        self.input_data = {'calculation': 'vc-relax', 'cell_dofree': 'ibrav'}\n",
    "\n",
    "    def write_input(self):\n",
    "        file = os.path.join(self.working_directory, 'espresso.pwi') \n",
    "        write(\n",
    "            file, \n",
    "            self.structure, \n",
    "            Crystal=True, \n",
    "            kpts=self.kpoints, \n",
    "            input_data=self.input_data, \n",
    "            pseudopotentials=self.pseudopotentials,\n",
    "            tstress=True, \n",
    "            tprnfor=True\n",
    "        )\n",
    "\n",
    "    def collect_output(self):\n",
    "        file = os.path.join(self.working_directory, 'espresso.pwo') \n",
    "        if self.input_data[\"calculation\"] == 'vc-relax':\n",
    "            output = io.read_pw_md(file)\n",
    "        else:\n",
    "            output = io.read_pw_scf(file)\n",
    "        with self._hdf5.open(\"output\") as hdf5_output:\n",
    "            hdf5_output[\"energy_tot\"] = output.etot\n",
    "            hdf5_output[\"positions\"] = output.coords\n",
    "            hdf5_output[\"cell\"] = output.cell\n",
    "            hdf5_output[\"forces\"] = output.forces\n",
    "            hdf5_output[\"volume\"] = output.volume\n",
    "\n",
    "    def get_structure(self, ind=-1):\n",
    "        structure_out = self.structure.copy()\n",
    "        structure_out.set_cell(self[\"output/cell\"][-1])\n",
    "        structure_out.set_positions(self[\"output/positions\"][-1])\n",
    "        return structure_out\n",
    "        \n",
    "    def to_hdf(self, hdf=None, group_name=None):\n",
    "        super(QuantumEspressoJob, self).to_hdf(hdf=hdf, group_name=group_name)\n",
    "        with self._hdf5.open(\"input\") as hdf5_input:\n",
    "            if self.structure is not None:\n",
    "                hdf5_input[\"structure\"] = self.structure.todict()\n",
    "            hdf5_input[\"data\"] = self.input_data\n",
    "            hdf5_input[\"kpoints\"] = self.kpoints\n",
    "            if len(self.pseudopotentials) > 0:\n",
    "                hdf5_input[\"potential\"] = self.pseudopotentials\n",
    "\n",
    "    def from_hdf(self, hdf=None, group_name=None):\n",
    "        super(QuantumEspressoJob, self).from_hdf(hdf=hdf, group_name=group_name)\n",
    "        with self._hdf5.open(\"input\") as hdf5_input:\n",
    "            if \"structure\" in hdf5_input.list_nodes():\n",
    "                structure_dict = hdf5_input[\"structure\"]\n",
    "                self.structure = Atoms(\n",
    "                    positions=structure_dict['positions'],\n",
    "                    numbers=structure_dict['positions'],\n",
    "                    cell=structure_dict['cell'],\n",
    "                    pbc=structure_dict['pbc'],\n",
    "                )\n",
    "            if \"potential\" in hdf5_input.list_nodes():\n",
    "                self.pseudopotentials = hdf5_input[\"potential\"]\n",
    "            self.input_data = hdf5_input[\"data\"]\n",
    "            self.kpoints = hdf5_input[\"kpoints\"]"
   ]
  },
  {
   "cell_type": "markdown",
   "metadata": {},
   "source": [
    "# Workflow"
   ]
  },
  {
   "cell_type": "code",
   "execution_count": 8,
   "metadata": {},
   "outputs": [],
   "source": [
    "pr = Project(\"test\")\n",
    "pr.remove_jobs(recursive=True, silently=True)"
   ]
  },
  {
   "cell_type": "markdown",
   "metadata": {},
   "source": [
    "## Structure Optimization"
   ]
  },
  {
   "cell_type": "code",
   "execution_count": 9,
   "metadata": {},
   "outputs": [],
   "source": [
    "structure = bulk('Al', a=4.15, cubic=True)"
   ]
  },
  {
   "cell_type": "code",
   "execution_count": 10,
   "metadata": {},
   "outputs": [
    {
     "name": "stdout",
     "output_type": "stream",
     "text": [
      "The job job_relax was saved and received the ID: job_relax\n"
     ]
    }
   ],
   "source": [
    "job_relax = pr.create_job(job_type=QuantumEspressoJob, job_name=\"job_relax\")\n",
    "job_relax.structure = structure\n",
    "job_relax.calc_minimize()\n",
    "job_relax.pseudopotentials = {\"Al\": \"Al.pbe-n-kjpaw_psl.1.0.0.UPF\"}\n",
    "job_relax.run()"
   ]
  },
  {
   "cell_type": "code",
   "execution_count": 11,
   "metadata": {},
   "outputs": [
    {
     "data": {
      "text/plain": [
       "array([[0.        , 0.        , 0.        ],\n",
       "       [0.        , 2.06947316, 2.06947316],\n",
       "       [2.06947316, 0.        , 2.06947316],\n",
       "       [2.06947316, 2.06947316, 0.        ]])"
      ]
     },
     "execution_count": 11,
     "metadata": {},
     "output_type": "execute_result"
    }
   ],
   "source": [
    "job_relax[\"output/positions\"][-1]"
   ]
  },
  {
   "cell_type": "code",
   "execution_count": 12,
   "metadata": {
    "tags": []
   },
   "outputs": [
    {
     "data": {
      "text/plain": [
       "Atoms(symbols='Al4', pbc=True, cell=[4.138946316999999, 4.138946316999999, 4.138946316999999])"
      ]
     },
     "execution_count": 12,
     "metadata": {},
     "output_type": "execute_result"
    }
   ],
   "source": [
    "structure_opt = job_relax.get_structure()\n",
    "structure_opt"
   ]
  },
  {
   "cell_type": "markdown",
   "metadata": {},
   "source": [
    "## Energy Volume Curve"
   ]
  },
  {
   "cell_type": "code",
   "execution_count": 13,
   "metadata": {},
   "outputs": [
    {
     "name": "stdout",
     "output_type": "stream",
     "text": [
      "The job job_strain_0 was saved and received the ID: job_strain_0\n",
      "The job job_strain_1 was saved and received the ID: job_strain_1\n",
      "The job job_strain_2 was saved and received the ID: job_strain_2\n",
      "The job job_strain_3 was saved and received the ID: job_strain_3\n",
      "The job job_strain_4 was saved and received the ID: job_strain_4\n"
     ]
    }
   ],
   "source": [
    "energy_lst, volume_lst = [], []\n",
    "for i, strain in enumerate(np.linspace(0.9, 1.1, 5)):\n",
    "    structure_strain = structure_opt.copy()\n",
    "    structure_strain = structure.copy()\n",
    "    structure_strain.set_cell(structure_strain.cell * strain**(1/3), scale_atoms=True)\n",
    "    job_strain = pr.create_job(job_type=QuantumEspressoJob, job_name=\"job_strain_\" + str(i))\n",
    "    job_strain.structure = structure_strain\n",
    "    job_strain.pseudopotentials = {\"Al\": \"Al.pbe-n-kjpaw_psl.1.0.0.UPF\"}\n",
    "    job_strain.run()\n",
    "    energy_lst.append(job_strain[\"output/energy_tot\"])\n",
    "    volume_lst.append(job_strain[\"output/volume\"])"
   ]
  },
  {
   "cell_type": "markdown",
   "metadata": {},
   "source": [
    "# Result"
   ]
  },
  {
   "cell_type": "code",
   "execution_count": 14,
   "metadata": {},
   "outputs": [
    {
     "data": {
      "text/plain": [
       "Text(0, 0.5, 'Energy')"
      ]
     },
     "execution_count": 14,
     "metadata": {},
     "output_type": "execute_result"
    },
    {
     "data": {
      "image/png": "[encoded data removed]",
      "text/plain": [
       "<Figure size 640x480 with 1 Axes>"
      ]
     },
     "metadata": {},
     "output_type": "display_data"
    }
   ],
   "source": [
    "plt.plot(volume_lst, energy_lst)\n",
    "plt.xlabel(\"Volume\")\n",
    "plt.ylabel(\"Energy\")"
   ]
  },
  {
   "cell_type": "code",
   "execution_count": null,
   "metadata": {},
   "outputs": [],
   "source": []
  }
 ],
 "metadata": {
  "kernelspec": {
   "display_name": "Python 3 (ipykernel)",
   "language": "python",
   "name": "python3"
  },
  "language_info": {
   "codemirror_mode": {
    "name": "ipython",
    "version": 3
   },
   "file_extension": ".py",
   "mimetype": "text/x-python",
   "name": "python",
   "nbconvert_exporter": "python",
   "pygments_lexer": "ipython3",
   "version": "3.10.13"
  }
 },
 "nbformat": 4,
 "nbformat_minor": 4
}
