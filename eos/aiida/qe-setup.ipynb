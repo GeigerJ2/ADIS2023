{
 "cells": [
  {
   "cell_type": "code",
   "execution_count": 1,
   "metadata": {},
   "outputs": [
    {
     "data": {
      "text/plain": [
       "Profile<uuid='636ce0ecaed848c18631033f4daed624' name='test'>"
      ]
     },
     "execution_count": 1,
     "metadata": {},
     "output_type": "execute_result"
    }
   ],
   "source": [
    "from pathlib import Path\n",
    "from ase import io as ase_io\n",
    "\n",
    "from aiida import orm, engine, load_profile\n",
    "from aiida.common.exceptions import NotExistent\n",
    "\n",
    "load_profile()"
   ]
  },
  {
   "cell_type": "markdown",
   "metadata": {},
   "source": [
    "# Setup for running Quantum ESPRESSO\n",
    "\n",
    "The cells below will setup the `localhost` computer and `pw.x` code on this computer."
   ]
  },
  {
   "cell_type": "code",
   "execution_count": 2,
   "metadata": {},
   "outputs": [],
   "source": [
    "try:\n",
    "    localhost = orm.load_computer('localhost')\n",
    "except NotExistent:\n",
    "    localhost = orm.Computer(\n",
    "        label='localhost',\n",
    "        hostname='localhost',\n",
    "        transport_type='core.local',\n",
    "        scheduler_type='core.direct',\n",
    "        workdir=Path('workdir').absolute().as_posix()\n",
    "    ).store().configure()\n",
    "\n",
    "try:\n",
    "    pw_code = orm.load_code('pw@localhost')\n",
    "except NotExistent:\n",
    "    pw_code = orm.InstalledCode(\n",
    "        label='pw',\n",
    "        computer=localhost,\n",
    "        filepath_executable='pw.x',\n",
    "        default_calc_job_plugin='aiida_qe_basic.pw',\n",
    "        prepend_text='export OMP_NUM_THREADS=1'\n",
    "    ).store()"
   ]
  },
  {
   "cell_type": "markdown",
   "metadata": {},
   "source": [
    "With the cell below you can set up a basic `pw.x` run via the plugin defined in the `aiida_qe_basic` package."
   ]
  },
  {
   "cell_type": "code",
   "execution_count": 3,
   "metadata": {},
   "outputs": [],
   "source": [
    "from aiida_qe_basic.pw import PwCalculation\n",
    "\n",
    "builder = PwCalculation.get_builder()\n",
    "\n",
    "builder.code = pw_code\n",
    "builder.structure = orm.StructureData(ase=ase_io.read('files/Al.cif'))\n",
    "builder.pseudopotentials = orm.Dict({\"Al\": \"Al.pbe-n-kjpaw_psl.1.0.0.UPF\"})\n",
    "builder.parameters = orm.Dict(\n",
    "    {\n",
    "        'CONTROL': {\n",
    "            'calculation': 'scf',\n",
    "            'pseudo_dir': Path('files').absolute().as_posix(),\n",
    "        },\n",
    "        'SYSTEM': {\n",
    "            'occupations': 'smearing',\n",
    "            'smearing': 'cold',\n",
    "            'degauss': 0.02\n",
    "        }\n",
    "    }\n",
    ")\n",
    "builder.metadata.options.resources = {\n",
    "    'num_machines': 1,\n",
    "    'num_mpiprocs_per_machine': 1\n",
    "}"
   ]
  },
  {
   "cell_type": "code",
   "execution_count": 4,
   "metadata": {},
   "outputs": [],
   "source": [
    "results = engine.run(builder)"
   ]
  },
  {
   "cell_type": "code",
   "execution_count": 5,
   "metadata": {},
   "outputs": [
    {
     "data": {
      "text/plain": [
       "{'structure': <StructureData: uuid: 6ba15262-c338-4ecd-a721-3c32e8ab9967 (pk: 16)>,\n",
       " 'properties': <Dict: uuid: b268c1e1-61d7-45ef-ab17-438ee5f6067c (pk: 17)>,\n",
       " 'remote_folder': <RemoteData: uuid: b3aa241b-a336-4396-8cb4-26162dd005ce (pk: 14)>,\n",
       " 'retrieved': <FolderData: uuid: 05b371b1-0b0a-4bec-806a-c89d75db7ec1 (pk: 15)>}"
      ]
     },
     "execution_count": 5,
     "metadata": {},
     "output_type": "execute_result"
    }
   ],
   "source": [
    "results"
   ]
  },
  {
   "cell_type": "code",
   "execution_count": 6,
   "metadata": {},
   "outputs": [
    {
     "data": {
      "text/plain": [
       "{'energy': -536.90337599314, 'volume': 16.48873596666}"
      ]
     },
     "execution_count": 6,
     "metadata": {},
     "output_type": "execute_result"
    }
   ],
   "source": [
    "results['properties'].get_dict()"
   ]
  },
  {
   "cell_type": "code",
   "execution_count": null,
   "metadata": {},
   "outputs": [],
   "source": []
  }
 ],
 "metadata": {
  "kernelspec": {
   "display_name": "Python 3",
   "language": "python",
   "name": "python3"
  },
  "language_info": {
   "codemirror_mode": {
    "name": "ipython",
    "version": 3
   },
   "file_extension": ".py",
   "mimetype": "text/x-python",
   "name": "python",
   "nbconvert_exporter": "python",
   "pygments_lexer": "ipython3",
   "version": "3.11.0"
  }
 },
 "nbformat": 4,
 "nbformat_minor": 2
}
