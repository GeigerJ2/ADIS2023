{
 "cells": [
  {
   "cell_type": "markdown",
   "metadata": {},
   "source": [
    "# Equation of State curve\n",
    "\n",
    "> [MBx] The following notebook assumes that AiiDA has been installed and a profile has been configured with the required computers/codes. I'll work on a solution that uses a temporary profile in the future."
   ]
  },
  {
   "cell_type": "code",
   "execution_count": 4,
   "metadata": {},
   "outputs": [
    {
     "data": {
      "text/plain": [
       "Profile<uuid='d4e71fa40fc149edaa183646025f15c1' name='dev'>"
      ]
     },
     "execution_count": 4,
     "metadata": {},
     "output_type": "execute_result"
    }
   ],
   "source": [
    "from aiida import orm, engine, load_profile\n",
    "\n",
    "load_profile()"
   ]
  },
  {
   "cell_type": "markdown",
   "metadata": {},
   "source": [
    "## Importing a structure"
   ]
  },
  {
   "cell_type": "code",
   "execution_count": 5,
   "metadata": {},
   "outputs": [],
   "source": [
    "from pymatgen.core import Structure\n",
    "\n",
    "structure = orm.StructureData(\n",
    "    pymatgen_structure=Structure.from_file(\"../Si.cif\")\n",
    ")"
   ]
  },
  {
   "cell_type": "markdown",
   "metadata": {},
   "source": [
    "## Relaxing the geometry"
   ]
  },
  {
   "cell_type": "code",
   "execution_count": 7,
   "metadata": {},
   "outputs": [
    {
     "name": "stderr",
     "output_type": "stream",
     "text": [
      "11/19/2023 11:05:58 AM <38951> aiida.orm.nodes.process.workflow.workchain.WorkChainNode: [REPORT] [4158|PwRelaxWorkChain|setup]: No change in volume possible for the provided base input parameters. Meta convergence is turned off.\n",
      "11/19/2023 11:05:58 AM <38951> aiida.orm.nodes.process.workflow.workchain.WorkChainNode: [REPORT] [4158|PwRelaxWorkChain|run_relax]: launching PwBaseWorkChain<4161>\n",
      "11/19/2023 11:05:59 AM <38951> aiida.orm.nodes.process.workflow.workchain.WorkChainNode: [REPORT] [4161|PwBaseWorkChain|run_process]: launching PwCalculation<4166> iteration #1\n",
      "11/19/2023 11:05:59 AM <38951> aiida.orm.nodes.process.workflow.workchain.WorkChainNode: [REPORT] [4161|PwBaseWorkChain|results]: work chain completed after 1 iterations\n",
      "11/19/2023 11:06:00 AM <38951> aiida.orm.nodes.process.workflow.workchain.WorkChainNode: [REPORT] [4161|PwBaseWorkChain|on_terminated]: remote folders will not be cleaned\n",
      "11/19/2023 11:06:00 AM <38951> aiida.orm.nodes.process.workflow.workchain.WorkChainNode: [REPORT] [4158|PwRelaxWorkChain|inspect_relax]: after iteration 1 cell volume of relaxed structure is 40.888292209588094\n",
      "11/19/2023 11:06:00 AM <38951> aiida.orm.nodes.process.workflow.workchain.WorkChainNode: [REPORT] [4158|PwRelaxWorkChain|run_final_scf]: launching PwBaseWorkChain<4175> for final scf\n",
      "11/19/2023 11:06:01 AM <38951> aiida.orm.nodes.process.workflow.workchain.WorkChainNode: [REPORT] [4175|PwBaseWorkChain|run_process]: launching PwCalculation<4180> iteration #1\n",
      "11/19/2023 11:06:01 AM <38951> aiida.orm.nodes.process.workflow.workchain.WorkChainNode: [REPORT] [4175|PwBaseWorkChain|results]: work chain completed after 1 iterations\n",
      "11/19/2023 11:06:01 AM <38951> aiida.orm.nodes.process.workflow.workchain.WorkChainNode: [REPORT] [4175|PwBaseWorkChain|on_terminated]: remote folders will not be cleaned\n",
      "11/19/2023 11:06:01 AM <38951> aiida.orm.nodes.process.workflow.workchain.WorkChainNode: [REPORT] [4158|PwRelaxWorkChain|results]: workchain completed after 1 iterations\n",
      "11/19/2023 11:06:01 AM <38951> aiida.orm.nodes.process.workflow.workchain.WorkChainNode: [REPORT] [4158|PwRelaxWorkChain|on_terminated]: remote folders will not be cleaned\n"
     ]
    }
   ],
   "source": [
    "from aiida_quantumespresso.workflows.pw.relax import PwRelaxWorkChain\n",
    "from aiida_quantumespresso.common.types import RelaxType\n",
    "\n",
    "results = engine.run(PwRelaxWorkChain.get_builder_from_protocol(\n",
    "    code=orm.load_code('qe-7.2-pw@localhost'),\n",
    "    structure=structure,\n",
    "    relax_type=RelaxType.POSITIONS\n",
    "))"
   ]
  },
  {
   "cell_type": "code",
   "execution_count": 8,
   "metadata": {},
   "outputs": [],
   "source": [
    "relaxed_structure = results['output_structure']"
   ]
  },
  {
   "cell_type": "markdown",
   "metadata": {},
   "source": [
    "## Calc function to rescale structures\n",
    "\n",
    "The `calcfunction` below takes an input structure and rescales it to different volumes."
   ]
  },
  {
   "cell_type": "code",
   "execution_count": 9,
   "metadata": {},
   "outputs": [],
   "source": [
    "@engine.calcfunction\n",
    "def rescale_list(structure: orm.StructureData, factor_list: orm.List):\n",
    "\n",
    "    scaled_structure_dict = {}\n",
    "\n",
    "    for index, scaling_factor in enumerate(factor_list.get_list()):\n",
    "\n",
    "        ase_structure = structure.get_ase()\n",
    "\n",
    "        new_cell = ase_structure.get_cell() * scaling_factor\n",
    "        ase_structure.set_cell(new_cell, scale_atoms=True)\n",
    "\n",
    "        scaled_structure_dict[f'structure_{index}'] = orm.StructureData(ase=ase_structure)\n",
    "\n",
    "    return scaled_structure_dict"
   ]
  },
  {
   "cell_type": "markdown",
   "metadata": {},
   "source": [
    "Typically, you'd just run it by calling the function as you would a regular Python function:"
   ]
  },
  {
   "cell_type": "code",
   "execution_count": 10,
   "metadata": {},
   "outputs": [],
   "source": [
    "rescaled_structures = rescale_list(relaxed_structure, orm.List(list=[0.9, 0.95, 1.0, 1.05, 1.1]))"
   ]
  },
  {
   "cell_type": "code",
   "execution_count": 11,
   "metadata": {},
   "outputs": [
    {
     "data": {
      "text/plain": [
       "{'structure_0': <StructureData: uuid: c61f9f7c-9c3c-4a79-963d-d60ff6e972f1 (pk: 4188)>,\n",
       " 'structure_1': <StructureData: uuid: 7bb67b47-bdd9-4201-be64-d95c0bf9bfa1 (pk: 4189)>,\n",
       " 'structure_2': <StructureData: uuid: c5a7be64-0c54-4b9c-9871-2ab3ce1f13d6 (pk: 4190)>,\n",
       " 'structure_3': <StructureData: uuid: e365dbb5-04bd-4743-9022-7e9469b9717f (pk: 4191)>,\n",
       " 'structure_4': <StructureData: uuid: 6e7e0f2f-7be7-4a18-a52c-9ffb9b678bb8 (pk: 4192)>}"
      ]
     },
     "execution_count": 11,
     "metadata": {},
     "output_type": "execute_result"
    }
   ],
   "source": [
    "rescaled_structures"
   ]
  },
  {
   "cell_type": "markdown",
   "metadata": {},
   "source": [
    "## EOS: Work function version"
   ]
  },
  {
   "cell_type": "code",
   "execution_count": 12,
   "metadata": {},
   "outputs": [],
   "source": [
    "from aiida_quantumespresso.workflows.pw.base import PwBaseWorkChain\n",
    "\n",
    "@engine.workfunction\n",
    "def run_eos_wf(code: orm.Code, structure: orm.StructureData, scale_factors: orm.List):\n",
    "    \"\"\"Run an equation of state of a bulk crystal structure for the given element.\"\"\"\n",
    "\n",
    "    parameters = {}\n",
    "\n",
    "    for label, rescaled_structure in rescale_list(structure, scale_factors).items():\n",
    "\n",
    "        builder = PwBaseWorkChain.get_builder_from_protocol(\n",
    "            code=code,\n",
    "            structure=rescaled_structure,\n",
    "            protocol='fast'\n",
    "        )\n",
    "        results = engine.run(builder)\n",
    "        parameters[label] = results['output_parameters']\n",
    "\n",
    "    return parameters"
   ]
  },
  {
   "cell_type": "code",
   "execution_count": 14,
   "metadata": {},
   "outputs": [
    {
     "name": "stderr",
     "output_type": "stream",
     "text": [
      "11/19/2023 11:12:43 AM <38951> aiida.orm.nodes.process.workflow.workchain.WorkChainNode: [REPORT] [4206|PwBaseWorkChain|run_process]: launching PwCalculation<4211> iteration #1\n",
      "11/19/2023 11:12:48 AM <38951> aiida.orm.nodes.process.workflow.workchain.WorkChainNode: [REPORT] [4206|PwBaseWorkChain|results]: work chain completed after 1 iterations\n",
      "11/19/2023 11:12:48 AM <38951> aiida.orm.nodes.process.workflow.workchain.WorkChainNode: [REPORT] [4206|PwBaseWorkChain|on_terminated]: remote folders will not be cleaned\n",
      "11/19/2023 11:12:48 AM <38951> aiida.orm.nodes.process.workflow.workchain.WorkChainNode: [REPORT] [4222|PwBaseWorkChain|run_process]: launching PwCalculation<4227> iteration #1\n",
      "11/19/2023 11:12:54 AM <38951> aiida.orm.nodes.process.workflow.workchain.WorkChainNode: [REPORT] [4222|PwBaseWorkChain|results]: work chain completed after 1 iterations\n",
      "11/19/2023 11:12:54 AM <38951> aiida.orm.nodes.process.workflow.workchain.WorkChainNode: [REPORT] [4222|PwBaseWorkChain|on_terminated]: remote folders will not be cleaned\n",
      "11/19/2023 11:12:54 AM <38951> aiida.orm.nodes.process.workflow.workchain.WorkChainNode: [REPORT] [4238|PwBaseWorkChain|run_process]: launching PwCalculation<4243> iteration #1\n",
      "11/19/2023 11:12:59 AM <38951> aiida.orm.nodes.process.workflow.workchain.WorkChainNode: [REPORT] [4238|PwBaseWorkChain|results]: work chain completed after 1 iterations\n",
      "11/19/2023 11:12:59 AM <38951> aiida.orm.nodes.process.workflow.workchain.WorkChainNode: [REPORT] [4238|PwBaseWorkChain|on_terminated]: remote folders will not be cleaned\n",
      "11/19/2023 11:12:59 AM <38951> aiida.orm.nodes.process.workflow.workchain.WorkChainNode: [REPORT] [4254|PwBaseWorkChain|run_process]: launching PwCalculation<4259> iteration #1\n",
      "11/19/2023 11:13:04 AM <38951> aiida.orm.nodes.process.workflow.workchain.WorkChainNode: [REPORT] [4254|PwBaseWorkChain|results]: work chain completed after 1 iterations\n",
      "11/19/2023 11:13:04 AM <38951> aiida.orm.nodes.process.workflow.workchain.WorkChainNode: [REPORT] [4254|PwBaseWorkChain|on_terminated]: remote folders will not be cleaned\n",
      "11/19/2023 11:13:04 AM <38951> aiida.orm.nodes.process.workflow.workchain.WorkChainNode: [REPORT] [4270|PwBaseWorkChain|run_process]: launching PwCalculation<4275> iteration #1\n",
      "11/19/2023 11:13:09 AM <38951> aiida.orm.nodes.process.workflow.workchain.WorkChainNode: [REPORT] [4270|PwBaseWorkChain|results]: work chain completed after 1 iterations\n",
      "11/19/2023 11:13:09 AM <38951> aiida.orm.nodes.process.workflow.workchain.WorkChainNode: [REPORT] [4270|PwBaseWorkChain|on_terminated]: remote folders will not be cleaned\n"
     ]
    }
   ],
   "source": [
    "results = run_eos_wf(\n",
    "    code=orm.load_code('qe-7.2-pw@localhost'),\n",
    "    structure=relaxed_structure,\n",
    "    scale_factors=[0.9, 0.95, 1.0, 1.05, 1.1]\n",
    ")"
   ]
  },
  {
   "cell_type": "code",
   "execution_count": 15,
   "metadata": {},
   "outputs": [
    {
     "data": {
      "text/plain": [
       "{'structure_0': <Dict: uuid: 180b53be-c207-4417-beff-66916927afa0 (pk: 4216)>,\n",
       " 'structure_1': <Dict: uuid: 3f501453-ff96-4b11-ba5b-c4c864d0cee3 (pk: 4232)>,\n",
       " 'structure_2': <Dict: uuid: f1e39949-118d-422d-8567-010f7c37952a (pk: 4248)>,\n",
       " 'structure_3': <Dict: uuid: 2b3da1e3-6579-43bf-af30-6aea72bd8883 (pk: 4264)>,\n",
       " 'structure_4': <Dict: uuid: fb69d8e0-142f-42d4-8586-2bba388015ee (pk: 4280)>}"
      ]
     },
     "execution_count": 15,
     "metadata": {},
     "output_type": "execute_result"
    }
   ],
   "source": [
    "results"
   ]
  },
  {
   "cell_type": "code",
   "execution_count": 16,
   "metadata": {},
   "outputs": [],
   "source": [
    "volumes = []\n",
    "energies = []\n",
    "\n",
    "for result in results.values():\n",
    "    volumes.append(result['volume'])\n",
    "    energies.append(result['energy'])"
   ]
  },
  {
   "cell_type": "code",
   "execution_count": 17,
   "metadata": {},
   "outputs": [
    {
     "data": {
      "text/plain": [
       "[<matplotlib.lines.Line2D at 0x1431db790>]"
      ]
     },
     "execution_count": 17,
     "metadata": {},
     "output_type": "execute_result"
    },
    {
     "data": {
      "image/png": "[encoded data removed]",
      "text/plain": [
       "<Figure size 640x480 with 1 Axes>"
      ]
     },
     "metadata": {},
     "output_type": "display_data"
    }
   ],
   "source": [
    "import matplotlib.pyplot as plt\n",
    "\n",
    "plt.plot(volumes, energies)"
   ]
  },
  {
   "cell_type": "code",
   "execution_count": 18,
   "metadata": {},
   "outputs": [],
   "source": [
    "@engine.calcfunction\n",
    "def create_eos_dictionary(**kwargs) -> orm.Dict:\n",
    "    eos = {\n",
    "        label: (result['volume'], result['energy'], result['energy_units'])\n",
    "        for label, result in kwargs.items()\n",
    "    }\n",
    "    return orm.Dict(eos)"
   ]
  },
  {
   "cell_type": "code",
   "execution_count": 19,
   "metadata": {},
   "outputs": [
    {
     "data": {
      "text/plain": [
       "{'structure_0': [29.80756462995, -307.18014869427, 'eV'],\n",
       " 'structure_1': [35.056599073847, -308.2321719355, 'eV'],\n",
       " 'structure_2': [40.888291673923, -308.34305832306, 'eV'],\n",
       " 'structure_3': [47.333308649125, -308.08280198495, 'eV'],\n",
       " 'structure_4': [54.422316216932, -307.51069734205, 'eV']}"
      ]
     },
     "execution_count": 19,
     "metadata": {},
     "output_type": "execute_result"
    }
   ],
   "source": [
    "create_eos_dictionary(**results).get_dict()"
   ]
  },
  {
   "cell_type": "markdown",
   "metadata": {},
   "source": [
    "## Work chain version"
   ]
  },
  {
   "cell_type": "code",
   "execution_count": 20,
   "metadata": {},
   "outputs": [],
   "source": [
    "class EquationOfState(engine.WorkChain):\n",
    "    \"\"\"WorkChain to compute Equation of State using Quantum ESPRESSO.\"\"\"\n",
    "\n",
    "    @classmethod\n",
    "    def define(cls, spec):\n",
    "        \"\"\"Specify inputs and outputs.\"\"\"\n",
    "        super().define(spec)\n",
    "        spec.input(\"code\", valid_type=orm.Code)\n",
    "        spec.input(\"structure\", valid_type=orm.StructureData)\n",
    "        spec.input(\"scale_factors\", valid_type=orm.List)\n",
    "\n",
    "        spec.outline(\n",
    "            cls.run_eos,\n",
    "            cls.results,\n",
    "        )\n",
    "        spec.output(\"eos_dict\", valid_type=orm.Dict)\n",
    "\n",
    "    def run_eos(self):\n",
    "\n",
    "        calcjob_dict = {}\n",
    "\n",
    "        for label, rescaled_structure in rescale_list(self.inputs.structure, self.inputs.scale_factors).items():\n",
    "\n",
    "            builder = PwBaseWorkChain.get_builder_from_protocol(\n",
    "                code=self.inputs.code,\n",
    "                structure=rescaled_structure,\n",
    "                protocol='fast'\n",
    "            )\n",
    "            calcjob_dict[label] = self.submit(builder)\n",
    "\n",
    "        self.ctx.labels = list(calcjob_dict.keys())\n",
    "\n",
    "        # self.to_context(**calcjob_dict)\n",
    "        return calcjob_dict\n",
    "\n",
    "    def results(self):\n",
    "\n",
    "        self.report(self.ctx)\n",
    "\n",
    "        eos_results = {\n",
    "            label: self.ctx[label].outputs['output_parameters'] for label in self.ctx.labels\n",
    "        }\n",
    "        eos_dict = create_eos_dictionary(**eos_results)\n",
    "        self.out('eos_dict', eos_dict)\n"
   ]
  },
  {
   "cell_type": "code",
   "execution_count": 21,
   "metadata": {},
   "outputs": [
    {
     "name": "stderr",
     "output_type": "stream",
     "text": [
      "11/19/2023 11:14:58 AM <38951> aiida.orm.nodes.process.workflow.workchain.WorkChainNode: [REPORT] [4320|PwBaseWorkChain|run_process]: launching PwCalculation<4333> iteration #1\n",
      "11/19/2023 11:14:58 AM <38951> aiida.orm.nodes.process.workflow.workchain.WorkChainNode: [REPORT] [4314|PwBaseWorkChain|run_process]: launching PwCalculation<4341> iteration #1\n",
      "11/19/2023 11:14:59 AM <38951> aiida.orm.nodes.process.workflow.workchain.WorkChainNode: [REPORT] [4308|PwBaseWorkChain|run_process]: launching PwCalculation<4349> iteration #1\n",
      "11/19/2023 11:14:59 AM <38951> aiida.orm.nodes.process.workflow.workchain.WorkChainNode: [REPORT] [4302|PwBaseWorkChain|run_process]: launching PwCalculation<4357> iteration #1\n",
      "11/19/2023 11:15:00 AM <38951> aiida.orm.nodes.process.workflow.workchain.WorkChainNode: [REPORT] [4296|PwBaseWorkChain|run_process]: launching PwCalculation<4365> iteration #1\n",
      "11/19/2023 11:15:00 AM <38951> aiida.orm.nodes.process.workflow.workchain.WorkChainNode: [REPORT] [4320|PwBaseWorkChain|results]: work chain completed after 1 iterations\n",
      "11/19/2023 11:15:00 AM <38951> aiida.orm.nodes.process.workflow.workchain.WorkChainNode: [REPORT] [4320|PwBaseWorkChain|on_terminated]: remote folders will not be cleaned\n",
      "11/19/2023 11:15:00 AM <38951> aiida.orm.nodes.process.workflow.workchain.WorkChainNode: [REPORT] [4314|PwBaseWorkChain|results]: work chain completed after 1 iterations\n",
      "11/19/2023 11:15:00 AM <38951> aiida.orm.nodes.process.workflow.workchain.WorkChainNode: [REPORT] [4314|PwBaseWorkChain|on_terminated]: remote folders will not be cleaned\n",
      "11/19/2023 11:15:01 AM <38951> aiida.orm.nodes.process.workflow.workchain.WorkChainNode: [REPORT] [4308|PwBaseWorkChain|results]: work chain completed after 1 iterations\n",
      "11/19/2023 11:15:01 AM <38951> aiida.orm.nodes.process.workflow.workchain.WorkChainNode: [REPORT] [4308|PwBaseWorkChain|on_terminated]: remote folders will not be cleaned\n",
      "11/19/2023 11:15:01 AM <38951> aiida.orm.nodes.process.workflow.workchain.WorkChainNode: [REPORT] [4302|PwBaseWorkChain|results]: work chain completed after 1 iterations\n",
      "11/19/2023 11:15:01 AM <38951> aiida.orm.nodes.process.workflow.workchain.WorkChainNode: [REPORT] [4302|PwBaseWorkChain|on_terminated]: remote folders will not be cleaned\n",
      "11/19/2023 11:15:01 AM <38951> aiida.orm.nodes.process.workflow.workchain.WorkChainNode: [REPORT] [4296|PwBaseWorkChain|results]: work chain completed after 1 iterations\n",
      "11/19/2023 11:15:01 AM <38951> aiida.orm.nodes.process.workflow.workchain.WorkChainNode: [REPORT] [4296|PwBaseWorkChain|on_terminated]: remote folders will not be cleaned\n",
      "11/19/2023 11:15:01 AM <38951> aiida.orm.nodes.process.workflow.workchain.WorkChainNode: [REPORT] [4284|EquationOfState|results]: AttributeDict({'labels': ['structure_0', 'structure_1', 'structure_2', 'structure_3', 'structure_4'], 'structure_0': <WorkChainNode: uuid: 76a89236-933d-416a-a12c-5c242294030d (pk: 4296) (aiida.workflows:quantumespresso.pw.base)>, 'structure_1': <WorkChainNode: uuid: d91587e9-21ce-4f65-aaa0-cf72482a60bc (pk: 4302) (aiida.workflows:quantumespresso.pw.base)>, 'structure_2': <WorkChainNode: uuid: 1d44c68f-a9f3-451a-83d6-156b0989efb6 (pk: 4308) (aiida.workflows:quantumespresso.pw.base)>, 'structure_3': <WorkChainNode: uuid: 8e0ea5ba-f132-4866-b164-015721dcc8db (pk: 4314) (aiida.workflows:quantumespresso.pw.base)>, 'structure_4': <WorkChainNode: uuid: 7bd162e7-547f-4c06-a06d-83ef2f8dd8bd (pk: 4320) (aiida.workflows:quantumespresso.pw.base)>})\n"
     ]
    },
    {
     "data": {
      "text/plain": [
       "{'eos_dict': <Dict: uuid: 5fc4c375-14cf-43cf-b760-2ed334e8a2f4 (pk: 4372)>}"
      ]
     },
     "execution_count": 21,
     "metadata": {},
     "output_type": "execute_result"
    }
   ],
   "source": [
    "engine.run(EquationOfState, code=orm.load_code('qe-7.2-pw@localhost'),\n",
    "           structure=relaxed_structure,\n",
    "           scale_factors=orm.List([0.9, 0.95, 1.0, 1.05, 1.1]))"
   ]
  },
  {
   "cell_type": "code",
   "execution_count": 22,
   "metadata": {},
   "outputs": [],
   "source": [
    "builder = EquationOfState.get_builder()"
   ]
  },
  {
   "cell_type": "code",
   "execution_count": 23,
   "metadata": {},
   "outputs": [],
   "source": [
    "builder.structure = relaxed_structure"
   ]
  },
  {
   "cell_type": "code",
   "execution_count": 24,
   "metadata": {},
   "outputs": [
    {
     "data": {
      "text/plain": [
       "Process class: EquationOfState\n",
       "Inputs:\n",
       "metadata: {}\n",
       "structure: Si\n"
      ]
     },
     "execution_count": 24,
     "metadata": {},
     "output_type": "execute_result"
    }
   ],
   "source": [
    "builder"
   ]
  },
  {
   "cell_type": "code",
   "execution_count": 25,
   "metadata": {},
   "outputs": [],
   "source": [
    "builder.scale_factors = orm.List([0.9, 0.95, 1.0, 1.05, 1.1])\n",
    "builder.code = orm.load_code('qe-7.2-pw@localhost')"
   ]
  },
  {
   "cell_type": "code",
   "execution_count": 26,
   "metadata": {},
   "outputs": [
    {
     "name": "stderr",
     "output_type": "stream",
     "text": [
      "11/19/2023 11:15:20 AM <38951> aiida.orm.nodes.process.workflow.workchain.WorkChainNode: [REPORT] [4410|PwBaseWorkChain|run_process]: launching PwCalculation<4423> iteration #1\n",
      "11/19/2023 11:15:21 AM <38951> aiida.orm.nodes.process.workflow.workchain.WorkChainNode: [REPORT] [4404|PwBaseWorkChain|run_process]: launching PwCalculation<4431> iteration #1\n",
      "11/19/2023 11:15:22 AM <38951> aiida.orm.nodes.process.workflow.workchain.WorkChainNode: [REPORT] [4398|PwBaseWorkChain|run_process]: launching PwCalculation<4439> iteration #1\n",
      "11/19/2023 11:15:22 AM <38951> aiida.orm.nodes.process.workflow.workchain.WorkChainNode: [REPORT] [4392|PwBaseWorkChain|run_process]: launching PwCalculation<4447> iteration #1\n",
      "11/19/2023 11:15:23 AM <38951> aiida.orm.nodes.process.workflow.workchain.WorkChainNode: [REPORT] [4386|PwBaseWorkChain|run_process]: launching PwCalculation<4455> iteration #1\n",
      "11/19/2023 11:15:23 AM <38951> aiida.orm.nodes.process.workflow.workchain.WorkChainNode: [REPORT] [4410|PwBaseWorkChain|results]: work chain completed after 1 iterations\n",
      "11/19/2023 11:15:23 AM <38951> aiida.orm.nodes.process.workflow.workchain.WorkChainNode: [REPORT] [4410|PwBaseWorkChain|on_terminated]: remote folders will not be cleaned\n",
      "11/19/2023 11:15:24 AM <38951> aiida.orm.nodes.process.workflow.workchain.WorkChainNode: [REPORT] [4404|PwBaseWorkChain|results]: work chain completed after 1 iterations\n",
      "11/19/2023 11:15:24 AM <38951> aiida.orm.nodes.process.workflow.workchain.WorkChainNode: [REPORT] [4404|PwBaseWorkChain|on_terminated]: remote folders will not be cleaned\n",
      "11/19/2023 11:15:24 AM <38951> aiida.orm.nodes.process.workflow.workchain.WorkChainNode: [REPORT] [4398|PwBaseWorkChain|results]: work chain completed after 1 iterations\n",
      "11/19/2023 11:15:24 AM <38951> aiida.orm.nodes.process.workflow.workchain.WorkChainNode: [REPORT] [4398|PwBaseWorkChain|on_terminated]: remote folders will not be cleaned\n",
      "11/19/2023 11:15:24 AM <38951> aiida.orm.nodes.process.workflow.workchain.WorkChainNode: [REPORT] [4392|PwBaseWorkChain|results]: work chain completed after 1 iterations\n",
      "11/19/2023 11:15:24 AM <38951> aiida.orm.nodes.process.workflow.workchain.WorkChainNode: [REPORT] [4392|PwBaseWorkChain|on_terminated]: remote folders will not be cleaned\n",
      "11/19/2023 11:15:24 AM <38951> aiida.orm.nodes.process.workflow.workchain.WorkChainNode: [REPORT] [4386|PwBaseWorkChain|results]: work chain completed after 1 iterations\n",
      "11/19/2023 11:15:25 AM <38951> aiida.orm.nodes.process.workflow.workchain.WorkChainNode: [REPORT] [4386|PwBaseWorkChain|on_terminated]: remote folders will not be cleaned\n",
      "11/19/2023 11:15:25 AM <38951> aiida.orm.nodes.process.workflow.workchain.WorkChainNode: [REPORT] [4374|EquationOfState|results]: AttributeDict({'labels': ['structure_0', 'structure_1', 'structure_2', 'structure_3', 'structure_4'], 'structure_0': <WorkChainNode: uuid: df5666db-47f1-4f17-8c83-ab12dd62fe91 (pk: 4386) (aiida.workflows:quantumespresso.pw.base)>, 'structure_1': <WorkChainNode: uuid: cde51bc7-9e0c-4794-b145-f7996ec126f1 (pk: 4392) (aiida.workflows:quantumespresso.pw.base)>, 'structure_2': <WorkChainNode: uuid: 5babf28c-d200-454f-8b4a-6bd3ab38aedf (pk: 4398) (aiida.workflows:quantumespresso.pw.base)>, 'structure_3': <WorkChainNode: uuid: fcf08288-07e9-49e7-9a9d-c275d1f867f0 (pk: 4404) (aiida.workflows:quantumespresso.pw.base)>, 'structure_4': <WorkChainNode: uuid: 3c25fc75-ff74-4cf1-8d97-6d14f181a268 (pk: 4410) (aiida.workflows:quantumespresso.pw.base)>})\n"
     ]
    }
   ],
   "source": [
    "results, node = engine.run_get_node(builder)"
   ]
  },
  {
   "cell_type": "code",
   "execution_count": 27,
   "metadata": {},
   "outputs": [
    {
     "data": {
      "text/plain": [
       "{'structure_0': [29.80756462995, -307.18014869427, 'eV'],\n",
       " 'structure_1': [35.056599073847, -308.2321719355, 'eV'],\n",
       " 'structure_2': [40.888291673923, -308.34305832306, 'eV'],\n",
       " 'structure_3': [47.333308649125, -308.08280198495, 'eV'],\n",
       " 'structure_4': [54.422316216932, -307.51069734205, 'eV']}"
      ]
     },
     "execution_count": 27,
     "metadata": {},
     "output_type": "execute_result"
    }
   ],
   "source": [
    "results['eos_dict'].get_dict()"
   ]
  },
  {
   "cell_type": "code",
   "execution_count": 28,
   "metadata": {},
   "outputs": [],
   "source": [
    "eos = node.outputs.eos_dict.get_dict()"
   ]
  },
  {
   "cell_type": "code",
   "execution_count": 29,
   "metadata": {},
   "outputs": [
    {
     "data": {
      "text/plain": [
       "{'structure_0': [29.80756462995, -307.18014869427, 'eV'],\n",
       " 'structure_1': [35.056599073847, -308.2321719355, 'eV'],\n",
       " 'structure_2': [40.888291673923, -308.34305832306, 'eV'],\n",
       " 'structure_3': [47.333308649125, -308.08280198495, 'eV'],\n",
       " 'structure_4': [54.422316216932, -307.51069734205, 'eV']}"
      ]
     },
     "execution_count": 29,
     "metadata": {},
     "output_type": "execute_result"
    }
   ],
   "source": [
    "eos"
   ]
  },
  {
   "cell_type": "code",
   "execution_count": 30,
   "metadata": {},
   "outputs": [
    {
     "data": {
      "text/plain": [
       "[<matplotlib.lines.Line2D at 0x1438b5bd0>]"
      ]
     },
     "execution_count": 30,
     "metadata": {},
     "output_type": "execute_result"
    },
    {
     "data": {
      "image/png": "[encoded data removed]",
      "text/plain": [
       "<Figure size 640x480 with 1 Axes>"
      ]
     },
     "metadata": {},
     "output_type": "display_data"
    }
   ],
   "source": [
    "plt.plot(\n",
    "    [v[0] for v in eos.values()],\n",
    "    [v[1] for v in eos.values()],\n",
    ")"
   ]
  },
  {
   "cell_type": "markdown",
   "metadata": {},
   "source": [
    "## Restarting the work chain"
   ]
  },
  {
   "cell_type": "code",
   "execution_count": 31,
   "metadata": {},
   "outputs": [],
   "source": [
    "restart_builder = node.get_builder_restart()"
   ]
  },
  {
   "cell_type": "code",
   "execution_count": 32,
   "metadata": {},
   "outputs": [
    {
     "data": {
      "text/plain": [
       "Process class: EquationOfState\n",
       "Inputs:\n",
       "code: Plane wave Quantum ESPRESSO v7.2 - local compilation\n",
       "metadata: {}\n",
       "scale_factors: ''\n",
       "structure: Si\n"
      ]
     },
     "execution_count": 32,
     "metadata": {},
     "output_type": "execute_result"
    }
   ],
   "source": [
    "restart_builder"
   ]
  },
  {
   "cell_type": "code",
   "execution_count": 33,
   "metadata": {},
   "outputs": [
    {
     "name": "stderr",
     "output_type": "stream",
     "text": [
      "11/19/2023 11:15:45 AM <38951> aiida.orm.nodes.process.workflow.workchain.WorkChainNode: [REPORT] [4499|PwBaseWorkChain|run_process]: launching PwCalculation<4512> iteration #1\n",
      "11/19/2023 11:15:46 AM <38951> aiida.orm.nodes.process.workflow.workchain.WorkChainNode: [REPORT] [4493|PwBaseWorkChain|run_process]: launching PwCalculation<4520> iteration #1\n",
      "11/19/2023 11:15:46 AM <38951> aiida.orm.nodes.process.workflow.workchain.WorkChainNode: [REPORT] [4487|PwBaseWorkChain|run_process]: launching PwCalculation<4528> iteration #1\n",
      "11/19/2023 11:15:47 AM <38951> aiida.orm.nodes.process.workflow.workchain.WorkChainNode: [REPORT] [4481|PwBaseWorkChain|run_process]: launching PwCalculation<4536> iteration #1\n",
      "11/19/2023 11:15:47 AM <38951> aiida.orm.nodes.process.workflow.workchain.WorkChainNode: [REPORT] [4475|PwBaseWorkChain|run_process]: launching PwCalculation<4544> iteration #1\n",
      "11/19/2023 11:15:48 AM <38951> aiida.orm.nodes.process.workflow.workchain.WorkChainNode: [REPORT] [4499|PwBaseWorkChain|results]: work chain completed after 1 iterations\n",
      "11/19/2023 11:15:48 AM <38951> aiida.orm.nodes.process.workflow.workchain.WorkChainNode: [REPORT] [4499|PwBaseWorkChain|on_terminated]: remote folders will not be cleaned\n",
      "11/19/2023 11:15:48 AM <38951> aiida.orm.nodes.process.workflow.workchain.WorkChainNode: [REPORT] [4493|PwBaseWorkChain|results]: work chain completed after 1 iterations\n",
      "11/19/2023 11:15:48 AM <38951> aiida.orm.nodes.process.workflow.workchain.WorkChainNode: [REPORT] [4493|PwBaseWorkChain|on_terminated]: remote folders will not be cleaned\n",
      "11/19/2023 11:15:48 AM <38951> aiida.orm.nodes.process.workflow.workchain.WorkChainNode: [REPORT] [4487|PwBaseWorkChain|results]: work chain completed after 1 iterations\n",
      "11/19/2023 11:15:48 AM <38951> aiida.orm.nodes.process.workflow.workchain.WorkChainNode: [REPORT] [4487|PwBaseWorkChain|on_terminated]: remote folders will not be cleaned\n",
      "11/19/2023 11:15:48 AM <38951> aiida.orm.nodes.process.workflow.workchain.WorkChainNode: [REPORT] [4481|PwBaseWorkChain|results]: work chain completed after 1 iterations\n",
      "11/19/2023 11:15:49 AM <38951> aiida.orm.nodes.process.workflow.workchain.WorkChainNode: [REPORT] [4481|PwBaseWorkChain|on_terminated]: remote folders will not be cleaned\n",
      "11/19/2023 11:15:49 AM <38951> aiida.orm.nodes.process.workflow.workchain.WorkChainNode: [REPORT] [4475|PwBaseWorkChain|results]: work chain completed after 1 iterations\n",
      "11/19/2023 11:15:49 AM <38951> aiida.orm.nodes.process.workflow.workchain.WorkChainNode: [REPORT] [4475|PwBaseWorkChain|on_terminated]: remote folders will not be cleaned\n",
      "11/19/2023 11:15:49 AM <38951> aiida.orm.nodes.process.workflow.workchain.WorkChainNode: [REPORT] [4463|EquationOfState|results]: AttributeDict({'labels': ['structure_0', 'structure_1', 'structure_2', 'structure_3', 'structure_4'], 'structure_0': <WorkChainNode: uuid: 1764e78e-802c-4667-93a3-04898e345728 (pk: 4475) (aiida.workflows:quantumespresso.pw.base)>, 'structure_1': <WorkChainNode: uuid: f7820de0-4e2c-4596-9fee-7d45b479571e (pk: 4481) (aiida.workflows:quantumespresso.pw.base)>, 'structure_2': <WorkChainNode: uuid: f62a7b6a-8208-4019-ae5e-9e202cac3f15 (pk: 4487) (aiida.workflows:quantumespresso.pw.base)>, 'structure_3': <WorkChainNode: uuid: 9a5a7f56-eaff-4c3e-84b2-907b64869f11 (pk: 4493) (aiida.workflows:quantumespresso.pw.base)>, 'structure_4': <WorkChainNode: uuid: 1176ca06-7ac7-4a81-af6f-9f901041267d (pk: 4499) (aiida.workflows:quantumespresso.pw.base)>})\n"
     ]
    },
    {
     "data": {
      "text/plain": [
       "{'eos_dict': <Dict: uuid: 0c8b3177-5b77-4dc9-869c-0d178cf938ae (pk: 4551)>}"
      ]
     },
     "execution_count": 33,
     "metadata": {},
     "output_type": "execute_result"
    }
   ],
   "source": [
    "engine.run(restart_builder)"
   ]
  },
  {
   "cell_type": "markdown",
   "metadata": {},
   "source": [
    "## Submitting to the daemon\n",
    "\n",
    "> Note: this requires that the daemon knows where to find the work chain, which means the work chain is stored in a module that is in the `PYTHONPATH`, or (preferably) it is developed in an installed package."
   ]
  },
  {
   "cell_type": "code",
   "execution_count": 36,
   "metadata": {},
   "outputs": [],
   "source": [
    "from aiida import engine\n",
    "from eos_wc import EquationOfState\n",
    "\n",
    "builder = EquationOfState.get_builder()\n",
    "\n",
    "builder.structure = relaxed_structure\n",
    "builder.scale_factors = orm.List([0.9, 0.95, 1.0, 1.05, 1.1])\n",
    "builder.code = orm.load_code('qe-7.2-pw@localhost')"
   ]
  },
  {
   "cell_type": "code",
   "execution_count": 37,
   "metadata": {},
   "outputs": [
    {
     "data": {
      "text/plain": [
       "<WorkChainNode: uuid: 372a7749-746f-4cf8-b8a4-6e0b33bf71ff (pk: 4553) (eos_wc.EquationOfState)>"
      ]
     },
     "execution_count": 37,
     "metadata": {},
     "output_type": "execute_result"
    }
   ],
   "source": [
    "engine.submit(builder)"
   ]
  },
  {
   "cell_type": "markdown",
   "metadata": {},
   "source": [
    "The `WorkChain` approach is not very suitable for interactively building a workflow. We've been working on a more flexible variant: the `WorkTree` (I know, we like workflows so much we can't get enough of them):\n",
    "\n",
    "https://aiida-worktree.readthedocs.io/en/stable/"
   ]
  },
  {
   "cell_type": "markdown",
   "metadata": {},
   "source": []
  }
 ],
 "metadata": {
  "kernelspec": {
   "display_name": "qe-installed",
   "language": "python",
   "name": "python3"
  },
  "language_info": {
   "codemirror_mode": {
    "name": "ipython",
    "version": 3
   },
   "file_extension": ".py",
   "mimetype": "text/x-python",
   "name": "python",
   "nbconvert_exporter": "python",
   "pygments_lexer": "ipython3",
   "version": "3.10.13"
  }
 },
 "nbformat": 4,
 "nbformat_minor": 2
}
