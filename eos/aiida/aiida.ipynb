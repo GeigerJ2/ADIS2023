{
 "cells": [
  {
   "cell_type": "code",
   "execution_count": null,
   "id": "fe7b6ae6-945a-4866-a141-7cc6ba5c99f7",
   "metadata": {},
   "outputs": [],
   "source": [
    "from aiida_quantumespresso.workflows.pw.base import PwBaseWorkChain"
   ]
  },
  {
   "cell_type": "code",
   "execution_count": null,
   "id": "74195782-4a45-43cf-844d-fed6ec5f6054",
   "metadata": {},
   "outputs": [],
   "source": [
    "@engine.workfunction\n",
    "def run_eos_wf(\n",
    "    code: orm.Code, \n",
    "    structure: orm.StructureData, \n",
    "    scale_factors: orm.List\n",
    "):\n",
    "    \"\"\"Run an equation of state of a bulk crystal structure for the given element.\"\"\"\n",
    "\n",
    "    parameters = {}\n",
    "\n",
    "    for label, rescaled_structure in rescale_list(\n",
    "        structure, \n",
    "        scale_factors\n",
    "    ).items():\n",
    "\n",
    "        builder = PwBaseWorkChain.get_builder_from_protocol(\n",
    "            code=code,\n",
    "            structure=rescaled_structure,\n",
    "            protocol='fast'\n",
    "        )\n",
    "        results = engine.run(builder)\n",
    "        parameters[label] = results['output_parameters']\n",
    "\n",
    "    return parameters"
   ]
  },
  {
   "cell_type": "code",
   "execution_count": null,
   "id": "9a502edd-971d-4e85-b4e1-2c6cc01ba601",
   "metadata": {},
   "outputs": [],
   "source": [
    "results = run_eos_wf(\n",
    "    code=orm.load_code('qe-7.2-pw@localhost'),\n",
    "    structure=si_structure,\n",
    "    scale_factors=[0.9, 0.95, 1.0, 1.05, 1.1]\n",
    ")"
   ]
  },
  {
   "cell_type": "code",
   "execution_count": null,
   "id": "12c7a102-103e-46d3-9cab-754cff66138d",
   "metadata": {},
   "outputs": [],
   "source": []
  }
 ],
 "metadata": {
  "kernelspec": {
   "display_name": "Python 3 (ipykernel)",
   "language": "python",
   "name": "python3"
  },
  "language_info": {
   "codemirror_mode": {
    "name": "ipython",
    "version": 3
   },
   "file_extension": ".py",
   "mimetype": "text/x-python",
   "name": "python",
   "nbconvert_exporter": "python",
   "pygments_lexer": "ipython3",
   "version": "3.10.8"
  }
 },
 "nbformat": 4,
 "nbformat_minor": 5
}
